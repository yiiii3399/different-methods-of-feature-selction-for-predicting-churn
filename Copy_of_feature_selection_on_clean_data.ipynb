{
  "nbformat": 4,
  "nbformat_minor": 0,
  "metadata": {
    "colab": {
      "provenance": []
    },
    "kernelspec": {
      "name": "python3",
      "display_name": "Python 3"
    },
    "language_info": {
      "name": "python"
    }
  },
  "cells": [
    {
      "cell_type": "code",
      "execution_count": 1,
      "metadata": {
        "id": "56fv0OLlKsVL"
      },
      "outputs": [],
      "source": [
        "# suppress warnings\n",
        "import warnings;\n",
        "warnings.filterwarnings('ignore');\n",
        "import os\n",
        "# common imports\n",
        "import pandas as pd\n",
        "import numpy as np\n",
        "import matplotlib\n",
        "from matplotlib import pyplot as plt\n",
        "\n",
        "plot_params = {'figure.figsize': (8, 4), \n",
        "               'axes.labelsize': 'large',\n",
        "               'axes.titlesize': 'large',\n",
        "               'xtick.labelsize': 'large',\n",
        "               'ytick.labelsize':'large',\n",
        "               'figure.dpi': 100}\n",
        "# adjust matplotlib defaults\n",
        "matplotlib.rcParams.update(plot_params)\n",
        "\n",
        "import seaborn as sns\n",
        "sns.set_style(\"darkgrid\")\n",
        "\n",
        "import locale\n",
        "def getpreferredencoding(do_setlocale = True):\n",
        "    return \"UTF-8\"\n",
        "locale.getpreferredencoding = getpreferredencoding\n",
        "import html \n",
        "import re"
      ]
    },
    {
      "cell_type": "code",
      "source": [
        "from google.colab import drive\n",
        "drive.mount('/content/drive')"
      ],
      "metadata": {
        "colab": {
          "base_uri": "https://localhost:8080/"
        },
        "id": "M4Sgk0Cpi92F",
        "outputId": "47cb2982-9eb5-4959-fe4f-cd0c0ae34a3b"
      },
      "execution_count": 2,
      "outputs": [
        {
          "output_type": "stream",
          "name": "stdout",
          "text": [
            "Mounted at /content/drive\n"
          ]
        }
      ]
    },
    {
      "cell_type": "code",
      "source": [
        "BASE_DIR = \"/content/drive/MyDrive/hackathon_berlin\"\n",
        "os.chdir(BASE_DIR)"
      ],
      "metadata": {
        "id": "Y_KTGNI5jJp-"
      },
      "execution_count": 3,
      "outputs": []
    },
    {
      "cell_type": "code",
      "source": [
        "file = \"df.csv\"\n",
        "df = pd.read_csv(file)"
      ],
      "metadata": {
        "id": "91VS82d_LCXl"
      },
      "execution_count": 4,
      "outputs": []
    },
    {
      "cell_type": "code",
      "source": [
        "df"
      ],
      "metadata": {
        "colab": {
          "base_uri": "https://localhost:8080/",
          "height": 476
        },
        "id": "WQxKTim7LanC",
        "outputId": "49ed3ce4-16e9-4383-f9a6-b13db7f28fd0"
      },
      "execution_count": 5,
      "outputs": [
        {
          "output_type": "execute_result",
          "data": {
            "text/plain": [
              "       rev_Mean  mou_Range  totmrc_Range  da_Range  ovrmou_Range  \\\n",
              "0      4.648062   5.948035      2.456164  2.070653      5.707110   \n",
              "1      3.472510   6.192362      2.608450  1.447253      0.693147   \n",
              "2      3.250181   5.023881      4.382277  1.134201      4.062212   \n",
              "3      4.149306   6.061457      3.750274  1.180241      3.496508   \n",
              "4      3.963951   5.159055      3.408661  1.068534      5.111988   \n",
              "...         ...        ...           ...       ...           ...   \n",
              "34995  3.433665   1.945910      2.229495  0.849650      1.991453   \n",
              "34996  3.669123   5.278115      2.640876  1.109018      4.442651   \n",
              "34997  3.673449   4.682131      2.922721  1.089673      2.830317   \n",
              "34998  3.937350   4.317488      3.433665  0.964387      3.599318   \n",
              "34999  3.533687   5.181784      3.621375  0.849650      2.536026   \n",
              "\n",
              "       ovrrev_Range  vceovr_Range  datovr_Range  roam_Range  change_mou  ...  \\\n",
              "0          4.510860      4.473922      1.458615    0.576613      205.25  ...   \n",
              "1          0.329304      3.152438      0.329304    2.774502       96.00  ...   \n",
              "2          3.131465      3.128761      0.886981    1.448946      -97.00  ...   \n",
              "3          2.360854      2.360854      0.418388    1.353350     -130.25  ...   \n",
              "4          4.073291      4.073291      0.778894    1.796722       94.75  ...   \n",
              "...             ...           ...           ...         ...         ...  ...   \n",
              "34995      1.165903      1.165903      0.329304    1.485282       -1.50  ...   \n",
              "34996      3.414443      3.414443      1.205971    1.259022       27.75  ...   \n",
              "34997      1.998549      2.725591      0.789498    2.474856      -44.75  ...   \n",
              "34998      2.885648      3.479660      0.467850    1.768545      -36.25  ...   \n",
              "34999      1.828072      1.828072      0.630752    1.471832      -11.00  ...   \n",
              "\n",
              "       kid6_10_Y  kid6_10_nan  kid11_15_Y  kid11_15_nan  kid16_17_Y  \\\n",
              "0            0.0          0.0         0.0           0.0         0.0   \n",
              "1            0.0          0.0         0.0           0.0         1.0   \n",
              "2            0.0          0.0         0.0           0.0         0.0   \n",
              "3            0.0          0.0         0.0           0.0         0.0   \n",
              "4            0.0          0.0         0.0           0.0         0.0   \n",
              "...          ...          ...         ...           ...         ...   \n",
              "34995        0.0          0.0         0.0           0.0         0.0   \n",
              "34996        1.0          0.0         1.0           0.0         0.0   \n",
              "34997        0.0          0.0         0.0           0.0         0.0   \n",
              "34998        1.0          0.0         0.0           0.0         0.0   \n",
              "34999        0.0          0.0         0.0           0.0         0.0   \n",
              "\n",
              "       kid16_17_nan  creditcd_Y  creditcd_nan  car_buy_UNKNOWN  car_buy_nan  \n",
              "0               0.0         0.0           0.0              1.0          0.0  \n",
              "1               0.0         1.0           0.0              0.0          0.0  \n",
              "2               0.0         0.0           0.0              1.0          0.0  \n",
              "3               0.0         1.0           0.0              0.0          0.0  \n",
              "4               0.0         0.0           0.0              0.0          0.0  \n",
              "...             ...         ...           ...              ...          ...  \n",
              "34995           0.0         1.0           0.0              0.0          0.0  \n",
              "34996           0.0         1.0           0.0              0.0          0.0  \n",
              "34997           0.0         1.0           0.0              1.0          0.0  \n",
              "34998           0.0         1.0           0.0              0.0          0.0  \n",
              "34999           0.0         1.0           0.0              1.0          0.0  \n",
              "\n",
              "[35000 rows x 280 columns]"
            ],
            "text/html": [
              "\n",
              "  <div id=\"df-e47439ef-afbc-4991-842b-1cba1bcc5c66\">\n",
              "    <div class=\"colab-df-container\">\n",
              "      <div>\n",
              "<style scoped>\n",
              "    .dataframe tbody tr th:only-of-type {\n",
              "        vertical-align: middle;\n",
              "    }\n",
              "\n",
              "    .dataframe tbody tr th {\n",
              "        vertical-align: top;\n",
              "    }\n",
              "\n",
              "    .dataframe thead th {\n",
              "        text-align: right;\n",
              "    }\n",
              "</style>\n",
              "<table border=\"1\" class=\"dataframe\">\n",
              "  <thead>\n",
              "    <tr style=\"text-align: right;\">\n",
              "      <th></th>\n",
              "      <th>rev_Mean</th>\n",
              "      <th>mou_Range</th>\n",
              "      <th>totmrc_Range</th>\n",
              "      <th>da_Range</th>\n",
              "      <th>ovrmou_Range</th>\n",
              "      <th>ovrrev_Range</th>\n",
              "      <th>vceovr_Range</th>\n",
              "      <th>datovr_Range</th>\n",
              "      <th>roam_Range</th>\n",
              "      <th>change_mou</th>\n",
              "      <th>...</th>\n",
              "      <th>kid6_10_Y</th>\n",
              "      <th>kid6_10_nan</th>\n",
              "      <th>kid11_15_Y</th>\n",
              "      <th>kid11_15_nan</th>\n",
              "      <th>kid16_17_Y</th>\n",
              "      <th>kid16_17_nan</th>\n",
              "      <th>creditcd_Y</th>\n",
              "      <th>creditcd_nan</th>\n",
              "      <th>car_buy_UNKNOWN</th>\n",
              "      <th>car_buy_nan</th>\n",
              "    </tr>\n",
              "  </thead>\n",
              "  <tbody>\n",
              "    <tr>\n",
              "      <th>0</th>\n",
              "      <td>4.648062</td>\n",
              "      <td>5.948035</td>\n",
              "      <td>2.456164</td>\n",
              "      <td>2.070653</td>\n",
              "      <td>5.707110</td>\n",
              "      <td>4.510860</td>\n",
              "      <td>4.473922</td>\n",
              "      <td>1.458615</td>\n",
              "      <td>0.576613</td>\n",
              "      <td>205.25</td>\n",
              "      <td>...</td>\n",
              "      <td>0.0</td>\n",
              "      <td>0.0</td>\n",
              "      <td>0.0</td>\n",
              "      <td>0.0</td>\n",
              "      <td>0.0</td>\n",
              "      <td>0.0</td>\n",
              "      <td>0.0</td>\n",
              "      <td>0.0</td>\n",
              "      <td>1.0</td>\n",
              "      <td>0.0</td>\n",
              "    </tr>\n",
              "    <tr>\n",
              "      <th>1</th>\n",
              "      <td>3.472510</td>\n",
              "      <td>6.192362</td>\n",
              "      <td>2.608450</td>\n",
              "      <td>1.447253</td>\n",
              "      <td>0.693147</td>\n",
              "      <td>0.329304</td>\n",
              "      <td>3.152438</td>\n",
              "      <td>0.329304</td>\n",
              "      <td>2.774502</td>\n",
              "      <td>96.00</td>\n",
              "      <td>...</td>\n",
              "      <td>0.0</td>\n",
              "      <td>0.0</td>\n",
              "      <td>0.0</td>\n",
              "      <td>0.0</td>\n",
              "      <td>1.0</td>\n",
              "      <td>0.0</td>\n",
              "      <td>1.0</td>\n",
              "      <td>0.0</td>\n",
              "      <td>0.0</td>\n",
              "      <td>0.0</td>\n",
              "    </tr>\n",
              "    <tr>\n",
              "      <th>2</th>\n",
              "      <td>3.250181</td>\n",
              "      <td>5.023881</td>\n",
              "      <td>4.382277</td>\n",
              "      <td>1.134201</td>\n",
              "      <td>4.062212</td>\n",
              "      <td>3.131465</td>\n",
              "      <td>3.128761</td>\n",
              "      <td>0.886981</td>\n",
              "      <td>1.448946</td>\n",
              "      <td>-97.00</td>\n",
              "      <td>...</td>\n",
              "      <td>0.0</td>\n",
              "      <td>0.0</td>\n",
              "      <td>0.0</td>\n",
              "      <td>0.0</td>\n",
              "      <td>0.0</td>\n",
              "      <td>0.0</td>\n",
              "      <td>0.0</td>\n",
              "      <td>0.0</td>\n",
              "      <td>1.0</td>\n",
              "      <td>0.0</td>\n",
              "    </tr>\n",
              "    <tr>\n",
              "      <th>3</th>\n",
              "      <td>4.149306</td>\n",
              "      <td>6.061457</td>\n",
              "      <td>3.750274</td>\n",
              "      <td>1.180241</td>\n",
              "      <td>3.496508</td>\n",
              "      <td>2.360854</td>\n",
              "      <td>2.360854</td>\n",
              "      <td>0.418388</td>\n",
              "      <td>1.353350</td>\n",
              "      <td>-130.25</td>\n",
              "      <td>...</td>\n",
              "      <td>0.0</td>\n",
              "      <td>0.0</td>\n",
              "      <td>0.0</td>\n",
              "      <td>0.0</td>\n",
              "      <td>0.0</td>\n",
              "      <td>0.0</td>\n",
              "      <td>1.0</td>\n",
              "      <td>0.0</td>\n",
              "      <td>0.0</td>\n",
              "      <td>0.0</td>\n",
              "    </tr>\n",
              "    <tr>\n",
              "      <th>4</th>\n",
              "      <td>3.963951</td>\n",
              "      <td>5.159055</td>\n",
              "      <td>3.408661</td>\n",
              "      <td>1.068534</td>\n",
              "      <td>5.111988</td>\n",
              "      <td>4.073291</td>\n",
              "      <td>4.073291</td>\n",
              "      <td>0.778894</td>\n",
              "      <td>1.796722</td>\n",
              "      <td>94.75</td>\n",
              "      <td>...</td>\n",
              "      <td>0.0</td>\n",
              "      <td>0.0</td>\n",
              "      <td>0.0</td>\n",
              "      <td>0.0</td>\n",
              "      <td>0.0</td>\n",
              "      <td>0.0</td>\n",
              "      <td>0.0</td>\n",
              "      <td>0.0</td>\n",
              "      <td>0.0</td>\n",
              "      <td>0.0</td>\n",
              "    </tr>\n",
              "    <tr>\n",
              "      <th>...</th>\n",
              "      <td>...</td>\n",
              "      <td>...</td>\n",
              "      <td>...</td>\n",
              "      <td>...</td>\n",
              "      <td>...</td>\n",
              "      <td>...</td>\n",
              "      <td>...</td>\n",
              "      <td>...</td>\n",
              "      <td>...</td>\n",
              "      <td>...</td>\n",
              "      <td>...</td>\n",
              "      <td>...</td>\n",
              "      <td>...</td>\n",
              "      <td>...</td>\n",
              "      <td>...</td>\n",
              "      <td>...</td>\n",
              "      <td>...</td>\n",
              "      <td>...</td>\n",
              "      <td>...</td>\n",
              "      <td>...</td>\n",
              "      <td>...</td>\n",
              "    </tr>\n",
              "    <tr>\n",
              "      <th>34995</th>\n",
              "      <td>3.433665</td>\n",
              "      <td>1.945910</td>\n",
              "      <td>2.229495</td>\n",
              "      <td>0.849650</td>\n",
              "      <td>1.991453</td>\n",
              "      <td>1.165903</td>\n",
              "      <td>1.165903</td>\n",
              "      <td>0.329304</td>\n",
              "      <td>1.485282</td>\n",
              "      <td>-1.50</td>\n",
              "      <td>...</td>\n",
              "      <td>0.0</td>\n",
              "      <td>0.0</td>\n",
              "      <td>0.0</td>\n",
              "      <td>0.0</td>\n",
              "      <td>0.0</td>\n",
              "      <td>0.0</td>\n",
              "      <td>1.0</td>\n",
              "      <td>0.0</td>\n",
              "      <td>0.0</td>\n",
              "      <td>0.0</td>\n",
              "    </tr>\n",
              "    <tr>\n",
              "      <th>34996</th>\n",
              "      <td>3.669123</td>\n",
              "      <td>5.278115</td>\n",
              "      <td>2.640876</td>\n",
              "      <td>1.109018</td>\n",
              "      <td>4.442651</td>\n",
              "      <td>3.414443</td>\n",
              "      <td>3.414443</td>\n",
              "      <td>1.205971</td>\n",
              "      <td>1.259022</td>\n",
              "      <td>27.75</td>\n",
              "      <td>...</td>\n",
              "      <td>1.0</td>\n",
              "      <td>0.0</td>\n",
              "      <td>1.0</td>\n",
              "      <td>0.0</td>\n",
              "      <td>0.0</td>\n",
              "      <td>0.0</td>\n",
              "      <td>1.0</td>\n",
              "      <td>0.0</td>\n",
              "      <td>0.0</td>\n",
              "      <td>0.0</td>\n",
              "    </tr>\n",
              "    <tr>\n",
              "      <th>34997</th>\n",
              "      <td>3.673449</td>\n",
              "      <td>4.682131</td>\n",
              "      <td>2.922721</td>\n",
              "      <td>1.089673</td>\n",
              "      <td>2.830317</td>\n",
              "      <td>1.998549</td>\n",
              "      <td>2.725591</td>\n",
              "      <td>0.789498</td>\n",
              "      <td>2.474856</td>\n",
              "      <td>-44.75</td>\n",
              "      <td>...</td>\n",
              "      <td>0.0</td>\n",
              "      <td>0.0</td>\n",
              "      <td>0.0</td>\n",
              "      <td>0.0</td>\n",
              "      <td>0.0</td>\n",
              "      <td>0.0</td>\n",
              "      <td>1.0</td>\n",
              "      <td>0.0</td>\n",
              "      <td>1.0</td>\n",
              "      <td>0.0</td>\n",
              "    </tr>\n",
              "    <tr>\n",
              "      <th>34998</th>\n",
              "      <td>3.937350</td>\n",
              "      <td>4.317488</td>\n",
              "      <td>3.433665</td>\n",
              "      <td>0.964387</td>\n",
              "      <td>3.599318</td>\n",
              "      <td>2.885648</td>\n",
              "      <td>3.479660</td>\n",
              "      <td>0.467850</td>\n",
              "      <td>1.768545</td>\n",
              "      <td>-36.25</td>\n",
              "      <td>...</td>\n",
              "      <td>1.0</td>\n",
              "      <td>0.0</td>\n",
              "      <td>0.0</td>\n",
              "      <td>0.0</td>\n",
              "      <td>0.0</td>\n",
              "      <td>0.0</td>\n",
              "      <td>1.0</td>\n",
              "      <td>0.0</td>\n",
              "      <td>0.0</td>\n",
              "      <td>0.0</td>\n",
              "    </tr>\n",
              "    <tr>\n",
              "      <th>34999</th>\n",
              "      <td>3.533687</td>\n",
              "      <td>5.181784</td>\n",
              "      <td>3.621375</td>\n",
              "      <td>0.849650</td>\n",
              "      <td>2.536026</td>\n",
              "      <td>1.828072</td>\n",
              "      <td>1.828072</td>\n",
              "      <td>0.630752</td>\n",
              "      <td>1.471832</td>\n",
              "      <td>-11.00</td>\n",
              "      <td>...</td>\n",
              "      <td>0.0</td>\n",
              "      <td>0.0</td>\n",
              "      <td>0.0</td>\n",
              "      <td>0.0</td>\n",
              "      <td>0.0</td>\n",
              "      <td>0.0</td>\n",
              "      <td>1.0</td>\n",
              "      <td>0.0</td>\n",
              "      <td>1.0</td>\n",
              "      <td>0.0</td>\n",
              "    </tr>\n",
              "  </tbody>\n",
              "</table>\n",
              "<p>35000 rows × 280 columns</p>\n",
              "</div>\n",
              "      <button class=\"colab-df-convert\" onclick=\"convertToInteractive('df-e47439ef-afbc-4991-842b-1cba1bcc5c66')\"\n",
              "              title=\"Convert this dataframe to an interactive table.\"\n",
              "              style=\"display:none;\">\n",
              "        \n",
              "  <svg xmlns=\"http://www.w3.org/2000/svg\" height=\"24px\"viewBox=\"0 0 24 24\"\n",
              "       width=\"24px\">\n",
              "    <path d=\"M0 0h24v24H0V0z\" fill=\"none\"/>\n",
              "    <path d=\"M18.56 5.44l.94 2.06.94-2.06 2.06-.94-2.06-.94-.94-2.06-.94 2.06-2.06.94zm-11 1L8.5 8.5l.94-2.06 2.06-.94-2.06-.94L8.5 2.5l-.94 2.06-2.06.94zm10 10l.94 2.06.94-2.06 2.06-.94-2.06-.94-.94-2.06-.94 2.06-2.06.94z\"/><path d=\"M17.41 7.96l-1.37-1.37c-.4-.4-.92-.59-1.43-.59-.52 0-1.04.2-1.43.59L10.3 9.45l-7.72 7.72c-.78.78-.78 2.05 0 2.83L4 21.41c.39.39.9.59 1.41.59.51 0 1.02-.2 1.41-.59l7.78-7.78 2.81-2.81c.8-.78.8-2.07 0-2.86zM5.41 20L4 18.59l7.72-7.72 1.47 1.35L5.41 20z\"/>\n",
              "  </svg>\n",
              "      </button>\n",
              "      \n",
              "  <style>\n",
              "    .colab-df-container {\n",
              "      display:flex;\n",
              "      flex-wrap:wrap;\n",
              "      gap: 12px;\n",
              "    }\n",
              "\n",
              "    .colab-df-convert {\n",
              "      background-color: #E8F0FE;\n",
              "      border: none;\n",
              "      border-radius: 50%;\n",
              "      cursor: pointer;\n",
              "      display: none;\n",
              "      fill: #1967D2;\n",
              "      height: 32px;\n",
              "      padding: 0 0 0 0;\n",
              "      width: 32px;\n",
              "    }\n",
              "\n",
              "    .colab-df-convert:hover {\n",
              "      background-color: #E2EBFA;\n",
              "      box-shadow: 0px 1px 2px rgba(60, 64, 67, 0.3), 0px 1px 3px 1px rgba(60, 64, 67, 0.15);\n",
              "      fill: #174EA6;\n",
              "    }\n",
              "\n",
              "    [theme=dark] .colab-df-convert {\n",
              "      background-color: #3B4455;\n",
              "      fill: #D2E3FC;\n",
              "    }\n",
              "\n",
              "    [theme=dark] .colab-df-convert:hover {\n",
              "      background-color: #434B5C;\n",
              "      box-shadow: 0px 1px 3px 1px rgba(0, 0, 0, 0.15);\n",
              "      filter: drop-shadow(0px 1px 2px rgba(0, 0, 0, 0.3));\n",
              "      fill: #FFFFFF;\n",
              "    }\n",
              "  </style>\n",
              "\n",
              "      <script>\n",
              "        const buttonEl =\n",
              "          document.querySelector('#df-e47439ef-afbc-4991-842b-1cba1bcc5c66 button.colab-df-convert');\n",
              "        buttonEl.style.display =\n",
              "          google.colab.kernel.accessAllowed ? 'block' : 'none';\n",
              "\n",
              "        async function convertToInteractive(key) {\n",
              "          const element = document.querySelector('#df-e47439ef-afbc-4991-842b-1cba1bcc5c66');\n",
              "          const dataTable =\n",
              "            await google.colab.kernel.invokeFunction('convertToInteractive',\n",
              "                                                     [key], {});\n",
              "          if (!dataTable) return;\n",
              "\n",
              "          const docLinkHtml = 'Like what you see? Visit the ' +\n",
              "            '<a target=\"_blank\" href=https://colab.research.google.com/notebooks/data_table.ipynb>data table notebook</a>'\n",
              "            + ' to learn more about interactive tables.';\n",
              "          element.innerHTML = '';\n",
              "          dataTable['output_type'] = 'display_data';\n",
              "          await google.colab.output.renderOutput(dataTable, element);\n",
              "          const docLink = document.createElement('div');\n",
              "          docLink.innerHTML = docLinkHtml;\n",
              "          element.appendChild(docLink);\n",
              "        }\n",
              "      </script>\n",
              "    </div>\n",
              "  </div>\n",
              "  "
            ]
          },
          "metadata": {},
          "execution_count": 5
        }
      ]
    },
    {
      "cell_type": "code",
      "source": [
        "df.isnull().sum().sort_values(ascending=False)"
      ],
      "metadata": {
        "colab": {
          "base_uri": "https://localhost:8080/"
        },
        "id": "hgTjEHtVMweb",
        "outputId": "ffae1385-f9e2-4242-8215-15a8835808c1"
      },
      "execution_count": 6,
      "outputs": [
        {
          "output_type": "execute_result",
          "data": {
            "text/plain": [
              "rev_Mean       0\n",
              "occu1_E        0\n",
              "occu1_K        0\n",
              "occu1_J        0\n",
              "occu1_I        0\n",
              "              ..\n",
              "crclscod_D4    0\n",
              "crclscod_D5    0\n",
              "crclscod_DA    0\n",
              "crclscod_E     0\n",
              "car_buy_nan    0\n",
              "Length: 280, dtype: int64"
            ]
          },
          "metadata": {},
          "execution_count": 6
        }
      ]
    },
    {
      "cell_type": "code",
      "source": [
        "df = df.dropna()"
      ],
      "metadata": {
        "id": "bbAoa1F1OTSt"
      },
      "execution_count": 7,
      "outputs": []
    },
    {
      "cell_type": "markdown",
      "source": [
        "# Feature Selection - Boruta"
      ],
      "metadata": {
        "id": "V4F0MYSlMDUY"
      }
    },
    {
      "cell_type": "code",
      "source": [
        "from sklearn.ensemble import RandomForestClassifier\n",
        "from sklearn.model_selection import train_test_split"
      ],
      "metadata": {
        "id": "6e_5fQd_MU86"
      },
      "execution_count": 11,
      "outputs": []
    },
    {
      "cell_type": "code",
      "source": [
        "X = df.drop('churn', axis=1)\n",
        "y = df['churn']"
      ],
      "metadata": {
        "id": "EinpNf21MXqo"
      },
      "execution_count": 9,
      "outputs": []
    },
    {
      "cell_type": "code",
      "source": [
        "X_train, X_test, y_train, y_test = train_test_split(X, y, test_size=0.2, random_state=1)"
      ],
      "metadata": {
        "id": "k_STJK0-YolA"
      },
      "execution_count": 12,
      "outputs": []
    },
    {
      "cell_type": "code",
      "source": [
        "# define random forest classifier\n",
        "forest = RandomForestClassifier(n_jobs=-1, class_weight='balanced', max_depth=5)\n",
        "forest.fit(X_train, y_train)"
      ],
      "metadata": {
        "colab": {
          "base_uri": "https://localhost:8080/",
          "height": 72
        },
        "id": "4vs-HTuZMaGW",
        "outputId": "bc3bdf43-c145-48a9-b127-10f1a5c5472f"
      },
      "execution_count": 13,
      "outputs": [
        {
          "output_type": "execute_result",
          "data": {
            "text/plain": [
              "RandomForestClassifier(class_weight='balanced', max_depth=5, n_jobs=-1)"
            ],
            "text/html": [
              "<style>#sk-container-id-1 {color: black;background-color: white;}#sk-container-id-1 pre{padding: 0;}#sk-container-id-1 div.sk-toggleable {background-color: white;}#sk-container-id-1 label.sk-toggleable__label {cursor: pointer;display: block;width: 100%;margin-bottom: 0;padding: 0.3em;box-sizing: border-box;text-align: center;}#sk-container-id-1 label.sk-toggleable__label-arrow:before {content: \"▸\";float: left;margin-right: 0.25em;color: #696969;}#sk-container-id-1 label.sk-toggleable__label-arrow:hover:before {color: black;}#sk-container-id-1 div.sk-estimator:hover label.sk-toggleable__label-arrow:before {color: black;}#sk-container-id-1 div.sk-toggleable__content {max-height: 0;max-width: 0;overflow: hidden;text-align: left;background-color: #f0f8ff;}#sk-container-id-1 div.sk-toggleable__content pre {margin: 0.2em;color: black;border-radius: 0.25em;background-color: #f0f8ff;}#sk-container-id-1 input.sk-toggleable__control:checked~div.sk-toggleable__content {max-height: 200px;max-width: 100%;overflow: auto;}#sk-container-id-1 input.sk-toggleable__control:checked~label.sk-toggleable__label-arrow:before {content: \"▾\";}#sk-container-id-1 div.sk-estimator input.sk-toggleable__control:checked~label.sk-toggleable__label {background-color: #d4ebff;}#sk-container-id-1 div.sk-label input.sk-toggleable__control:checked~label.sk-toggleable__label {background-color: #d4ebff;}#sk-container-id-1 input.sk-hidden--visually {border: 0;clip: rect(1px 1px 1px 1px);clip: rect(1px, 1px, 1px, 1px);height: 1px;margin: -1px;overflow: hidden;padding: 0;position: absolute;width: 1px;}#sk-container-id-1 div.sk-estimator {font-family: monospace;background-color: #f0f8ff;border: 1px dotted black;border-radius: 0.25em;box-sizing: border-box;margin-bottom: 0.5em;}#sk-container-id-1 div.sk-estimator:hover {background-color: #d4ebff;}#sk-container-id-1 div.sk-parallel-item::after {content: \"\";width: 100%;border-bottom: 1px solid gray;flex-grow: 1;}#sk-container-id-1 div.sk-label:hover label.sk-toggleable__label {background-color: #d4ebff;}#sk-container-id-1 div.sk-serial::before {content: \"\";position: absolute;border-left: 1px solid gray;box-sizing: border-box;top: 0;bottom: 0;left: 50%;z-index: 0;}#sk-container-id-1 div.sk-serial {display: flex;flex-direction: column;align-items: center;background-color: white;padding-right: 0.2em;padding-left: 0.2em;position: relative;}#sk-container-id-1 div.sk-item {position: relative;z-index: 1;}#sk-container-id-1 div.sk-parallel {display: flex;align-items: stretch;justify-content: center;background-color: white;position: relative;}#sk-container-id-1 div.sk-item::before, #sk-container-id-1 div.sk-parallel-item::before {content: \"\";position: absolute;border-left: 1px solid gray;box-sizing: border-box;top: 0;bottom: 0;left: 50%;z-index: -1;}#sk-container-id-1 div.sk-parallel-item {display: flex;flex-direction: column;z-index: 1;position: relative;background-color: white;}#sk-container-id-1 div.sk-parallel-item:first-child::after {align-self: flex-end;width: 50%;}#sk-container-id-1 div.sk-parallel-item:last-child::after {align-self: flex-start;width: 50%;}#sk-container-id-1 div.sk-parallel-item:only-child::after {width: 0;}#sk-container-id-1 div.sk-dashed-wrapped {border: 1px dashed gray;margin: 0 0.4em 0.5em 0.4em;box-sizing: border-box;padding-bottom: 0.4em;background-color: white;}#sk-container-id-1 div.sk-label label {font-family: monospace;font-weight: bold;display: inline-block;line-height: 1.2em;}#sk-container-id-1 div.sk-label-container {text-align: center;}#sk-container-id-1 div.sk-container {/* jupyter's `normalize.less` sets `[hidden] { display: none; }` but bootstrap.min.css set `[hidden] { display: none !important; }` so we also need the `!important` here to be able to override the default hidden behavior on the sphinx rendered scikit-learn.org. See: https://github.com/scikit-learn/scikit-learn/issues/21755 */display: inline-block !important;position: relative;}#sk-container-id-1 div.sk-text-repr-fallback {display: none;}</style><div id=\"sk-container-id-1\" class=\"sk-top-container\"><div class=\"sk-text-repr-fallback\"><pre>RandomForestClassifier(class_weight=&#x27;balanced&#x27;, max_depth=5, n_jobs=-1)</pre><b>In a Jupyter environment, please rerun this cell to show the HTML representation or trust the notebook. <br />On GitHub, the HTML representation is unable to render, please try loading this page with nbviewer.org.</b></div><div class=\"sk-container\" hidden><div class=\"sk-item\"><div class=\"sk-estimator sk-toggleable\"><input class=\"sk-toggleable__control sk-hidden--visually\" id=\"sk-estimator-id-1\" type=\"checkbox\" checked><label for=\"sk-estimator-id-1\" class=\"sk-toggleable__label sk-toggleable__label-arrow\">RandomForestClassifier</label><div class=\"sk-toggleable__content\"><pre>RandomForestClassifier(class_weight=&#x27;balanced&#x27;, max_depth=5, n_jobs=-1)</pre></div></div></div></div></div>"
            ]
          },
          "metadata": {},
          "execution_count": 13
        }
      ]
    },
    {
      "cell_type": "code",
      "source": [
        "!pip install boruta"
      ],
      "metadata": {
        "colab": {
          "base_uri": "https://localhost:8080/"
        },
        "id": "OW0sOzK4McTC",
        "outputId": "3be86f95-10fd-4b14-8517-8bf55891dafd"
      },
      "execution_count": 14,
      "outputs": [
        {
          "output_type": "stream",
          "name": "stdout",
          "text": [
            "Looking in indexes: https://pypi.org/simple, https://us-python.pkg.dev/colab-wheels/public/simple/\n",
            "Collecting boruta\n",
            "  Downloading Boruta-0.3-py3-none-any.whl (56 kB)\n",
            "\u001b[?25l     \u001b[90m━━━━━━━━━━━━━━━━━━━━━━━━━━━━━━━━━━━━━━━━\u001b[0m \u001b[32m0.0/56.6 kB\u001b[0m \u001b[31m?\u001b[0m eta \u001b[36m-:--:--\u001b[0m\r\u001b[2K     \u001b[90m━━━━━━━━━━━━━━━━━━━━━━━━━━━━━━━━━━━━━━━━\u001b[0m \u001b[32m56.6/56.6 kB\u001b[0m \u001b[31m2.7 MB/s\u001b[0m eta \u001b[36m0:00:00\u001b[0m\n",
            "\u001b[?25hRequirement already satisfied: numpy>=1.10.4 in /usr/local/lib/python3.10/dist-packages (from boruta) (1.22.4)\n",
            "Requirement already satisfied: scikit-learn>=0.17.1 in /usr/local/lib/python3.10/dist-packages (from boruta) (1.2.2)\n",
            "Requirement already satisfied: scipy>=0.17.0 in /usr/local/lib/python3.10/dist-packages (from boruta) (1.10.1)\n",
            "Requirement already satisfied: joblib>=1.1.1 in /usr/local/lib/python3.10/dist-packages (from scikit-learn>=0.17.1->boruta) (1.2.0)\n",
            "Requirement already satisfied: threadpoolctl>=2.0.0 in /usr/local/lib/python3.10/dist-packages (from scikit-learn>=0.17.1->boruta) (3.1.0)\n",
            "Installing collected packages: boruta\n",
            "Successfully installed boruta-0.3\n"
          ]
        }
      ]
    },
    {
      "cell_type": "code",
      "source": [
        "from boruta import BorutaPy\n",
        "\n",
        "# Define Boruta feature selection method\n",
        "feat_selector = BorutaPy(forest, n_estimators='auto', verbose=2, random_state=1)\n",
        "\n",
        "# Find all relevant features\n",
        "feat_selector.fit(X_train.values, y_train.values)\n",
        "\n",
        "# Check selected features\n",
        "selected_features = X.columns[feat_selector.support_]\n",
        "\n",
        "# Call transform() on X_train and X_test to filter them down to selected features\n",
        "X_train_filtered = X_train[selected_features].copy()\n",
        "X_test_filtered = X_test[selected_features].copy()"
      ],
      "metadata": {
        "colab": {
          "base_uri": "https://localhost:8080/"
        },
        "id": "SIDQ08BQOtTM",
        "outputId": "5ebc04b6-ba06-43db-ee96-2b85c748cba7"
      },
      "execution_count": 15,
      "outputs": [
        {
          "output_type": "stream",
          "name": "stdout",
          "text": [
            "Iteration: \t1 / 100\n",
            "Confirmed: \t0\n",
            "Tentative: \t279\n",
            "Rejected: \t0\n",
            "Iteration: \t2 / 100\n",
            "Confirmed: \t0\n",
            "Tentative: \t279\n",
            "Rejected: \t0\n",
            "Iteration: \t3 / 100\n",
            "Confirmed: \t0\n",
            "Tentative: \t279\n",
            "Rejected: \t0\n",
            "Iteration: \t4 / 100\n",
            "Confirmed: \t0\n",
            "Tentative: \t279\n",
            "Rejected: \t0\n",
            "Iteration: \t5 / 100\n",
            "Confirmed: \t0\n",
            "Tentative: \t279\n",
            "Rejected: \t0\n",
            "Iteration: \t6 / 100\n",
            "Confirmed: \t0\n",
            "Tentative: \t279\n",
            "Rejected: \t0\n",
            "Iteration: \t7 / 100\n",
            "Confirmed: \t0\n",
            "Tentative: \t279\n",
            "Rejected: \t0\n",
            "Iteration: \t8 / 100\n",
            "Confirmed: \t50\n",
            "Tentative: \t23\n",
            "Rejected: \t206\n",
            "Iteration: \t9 / 100\n",
            "Confirmed: \t50\n",
            "Tentative: \t23\n",
            "Rejected: \t206\n",
            "Iteration: \t10 / 100\n",
            "Confirmed: \t50\n",
            "Tentative: \t23\n",
            "Rejected: \t206\n",
            "Iteration: \t11 / 100\n",
            "Confirmed: \t50\n",
            "Tentative: \t23\n",
            "Rejected: \t206\n",
            "Iteration: \t12 / 100\n",
            "Confirmed: \t51\n",
            "Tentative: \t22\n",
            "Rejected: \t206\n",
            "Iteration: \t13 / 100\n",
            "Confirmed: \t51\n",
            "Tentative: \t18\n",
            "Rejected: \t210\n",
            "Iteration: \t14 / 100\n",
            "Confirmed: \t51\n",
            "Tentative: \t18\n",
            "Rejected: \t210\n",
            "Iteration: \t15 / 100\n",
            "Confirmed: \t51\n",
            "Tentative: \t18\n",
            "Rejected: \t210\n",
            "Iteration: \t16 / 100\n",
            "Confirmed: \t52\n",
            "Tentative: \t12\n",
            "Rejected: \t215\n",
            "Iteration: \t17 / 100\n",
            "Confirmed: \t52\n",
            "Tentative: \t12\n",
            "Rejected: \t215\n",
            "Iteration: \t18 / 100\n",
            "Confirmed: \t52\n",
            "Tentative: \t12\n",
            "Rejected: \t215\n",
            "Iteration: \t19 / 100\n",
            "Confirmed: \t52\n",
            "Tentative: \t12\n",
            "Rejected: \t215\n",
            "Iteration: \t20 / 100\n",
            "Confirmed: \t52\n",
            "Tentative: \t12\n",
            "Rejected: \t215\n",
            "Iteration: \t21 / 100\n",
            "Confirmed: \t52\n",
            "Tentative: \t11\n",
            "Rejected: \t216\n",
            "Iteration: \t22 / 100\n",
            "Confirmed: \t52\n",
            "Tentative: \t11\n",
            "Rejected: \t216\n",
            "Iteration: \t23 / 100\n",
            "Confirmed: \t52\n",
            "Tentative: \t11\n",
            "Rejected: \t216\n",
            "Iteration: \t24 / 100\n",
            "Confirmed: \t52\n",
            "Tentative: \t11\n",
            "Rejected: \t216\n",
            "Iteration: \t25 / 100\n",
            "Confirmed: \t52\n",
            "Tentative: \t11\n",
            "Rejected: \t216\n",
            "Iteration: \t26 / 100\n",
            "Confirmed: \t52\n",
            "Tentative: \t9\n",
            "Rejected: \t218\n",
            "Iteration: \t27 / 100\n",
            "Confirmed: \t52\n",
            "Tentative: \t9\n",
            "Rejected: \t218\n",
            "Iteration: \t28 / 100\n",
            "Confirmed: \t52\n",
            "Tentative: \t9\n",
            "Rejected: \t218\n",
            "Iteration: \t29 / 100\n",
            "Confirmed: \t52\n",
            "Tentative: \t9\n",
            "Rejected: \t218\n",
            "Iteration: \t30 / 100\n",
            "Confirmed: \t52\n",
            "Tentative: \t9\n",
            "Rejected: \t218\n",
            "Iteration: \t31 / 100\n",
            "Confirmed: \t52\n",
            "Tentative: \t9\n",
            "Rejected: \t218\n",
            "Iteration: \t32 / 100\n",
            "Confirmed: \t52\n",
            "Tentative: \t9\n",
            "Rejected: \t218\n",
            "Iteration: \t33 / 100\n",
            "Confirmed: \t52\n",
            "Tentative: \t9\n",
            "Rejected: \t218\n",
            "Iteration: \t34 / 100\n",
            "Confirmed: \t52\n",
            "Tentative: \t9\n",
            "Rejected: \t218\n",
            "Iteration: \t35 / 100\n",
            "Confirmed: \t52\n",
            "Tentative: \t9\n",
            "Rejected: \t218\n",
            "Iteration: \t36 / 100\n",
            "Confirmed: \t52\n",
            "Tentative: \t9\n",
            "Rejected: \t218\n",
            "Iteration: \t37 / 100\n",
            "Confirmed: \t52\n",
            "Tentative: \t9\n",
            "Rejected: \t218\n",
            "Iteration: \t38 / 100\n",
            "Confirmed: \t52\n",
            "Tentative: \t9\n",
            "Rejected: \t218\n",
            "Iteration: \t39 / 100\n",
            "Confirmed: \t52\n",
            "Tentative: \t9\n",
            "Rejected: \t218\n",
            "Iteration: \t40 / 100\n",
            "Confirmed: \t52\n",
            "Tentative: \t9\n",
            "Rejected: \t218\n",
            "Iteration: \t41 / 100\n",
            "Confirmed: \t52\n",
            "Tentative: \t9\n",
            "Rejected: \t218\n",
            "Iteration: \t42 / 100\n",
            "Confirmed: \t52\n",
            "Tentative: \t9\n",
            "Rejected: \t218\n",
            "Iteration: \t43 / 100\n",
            "Confirmed: \t52\n",
            "Tentative: \t9\n",
            "Rejected: \t218\n",
            "Iteration: \t44 / 100\n",
            "Confirmed: \t52\n",
            "Tentative: \t8\n",
            "Rejected: \t219\n",
            "Iteration: \t45 / 100\n",
            "Confirmed: \t52\n",
            "Tentative: \t8\n",
            "Rejected: \t219\n",
            "Iteration: \t46 / 100\n",
            "Confirmed: \t52\n",
            "Tentative: \t8\n",
            "Rejected: \t219\n",
            "Iteration: \t47 / 100\n",
            "Confirmed: \t52\n",
            "Tentative: \t8\n",
            "Rejected: \t219\n",
            "Iteration: \t48 / 100\n",
            "Confirmed: \t52\n",
            "Tentative: \t8\n",
            "Rejected: \t219\n",
            "Iteration: \t49 / 100\n",
            "Confirmed: \t52\n",
            "Tentative: \t8\n",
            "Rejected: \t219\n",
            "Iteration: \t50 / 100\n",
            "Confirmed: \t52\n",
            "Tentative: \t8\n",
            "Rejected: \t219\n",
            "Iteration: \t51 / 100\n",
            "Confirmed: \t52\n",
            "Tentative: \t8\n",
            "Rejected: \t219\n",
            "Iteration: \t52 / 100\n",
            "Confirmed: \t52\n",
            "Tentative: \t8\n",
            "Rejected: \t219\n",
            "Iteration: \t53 / 100\n",
            "Confirmed: \t52\n",
            "Tentative: \t8\n",
            "Rejected: \t219\n",
            "Iteration: \t54 / 100\n",
            "Confirmed: \t52\n",
            "Tentative: \t8\n",
            "Rejected: \t219\n",
            "Iteration: \t55 / 100\n",
            "Confirmed: \t52\n",
            "Tentative: \t8\n",
            "Rejected: \t219\n",
            "Iteration: \t56 / 100\n",
            "Confirmed: \t52\n",
            "Tentative: \t8\n",
            "Rejected: \t219\n",
            "Iteration: \t57 / 100\n",
            "Confirmed: \t52\n",
            "Tentative: \t8\n",
            "Rejected: \t219\n",
            "Iteration: \t58 / 100\n",
            "Confirmed: \t52\n",
            "Tentative: \t8\n",
            "Rejected: \t219\n",
            "Iteration: \t59 / 100\n",
            "Confirmed: \t53\n",
            "Tentative: \t7\n",
            "Rejected: \t219\n",
            "Iteration: \t60 / 100\n",
            "Confirmed: \t53\n",
            "Tentative: \t7\n",
            "Rejected: \t219\n",
            "Iteration: \t61 / 100\n",
            "Confirmed: \t53\n",
            "Tentative: \t7\n",
            "Rejected: \t219\n",
            "Iteration: \t62 / 100\n",
            "Confirmed: \t53\n",
            "Tentative: \t7\n",
            "Rejected: \t219\n",
            "Iteration: \t63 / 100\n",
            "Confirmed: \t53\n",
            "Tentative: \t7\n",
            "Rejected: \t219\n",
            "Iteration: \t64 / 100\n",
            "Confirmed: \t53\n",
            "Tentative: \t7\n",
            "Rejected: \t219\n",
            "Iteration: \t65 / 100\n",
            "Confirmed: \t53\n",
            "Tentative: \t7\n",
            "Rejected: \t219\n",
            "Iteration: \t66 / 100\n",
            "Confirmed: \t53\n",
            "Tentative: \t7\n",
            "Rejected: \t219\n",
            "Iteration: \t67 / 100\n",
            "Confirmed: \t53\n",
            "Tentative: \t6\n",
            "Rejected: \t220\n",
            "Iteration: \t68 / 100\n",
            "Confirmed: \t53\n",
            "Tentative: \t6\n",
            "Rejected: \t220\n",
            "Iteration: \t69 / 100\n",
            "Confirmed: \t53\n",
            "Tentative: \t6\n",
            "Rejected: \t220\n",
            "Iteration: \t70 / 100\n",
            "Confirmed: \t53\n",
            "Tentative: \t6\n",
            "Rejected: \t220\n",
            "Iteration: \t71 / 100\n",
            "Confirmed: \t53\n",
            "Tentative: \t6\n",
            "Rejected: \t220\n",
            "Iteration: \t72 / 100\n",
            "Confirmed: \t53\n",
            "Tentative: \t6\n",
            "Rejected: \t220\n",
            "Iteration: \t73 / 100\n",
            "Confirmed: \t53\n",
            "Tentative: \t6\n",
            "Rejected: \t220\n",
            "Iteration: \t74 / 100\n",
            "Confirmed: \t53\n",
            "Tentative: \t6\n",
            "Rejected: \t220\n",
            "Iteration: \t75 / 100\n",
            "Confirmed: \t53\n",
            "Tentative: \t6\n",
            "Rejected: \t220\n",
            "Iteration: \t76 / 100\n",
            "Confirmed: \t53\n",
            "Tentative: \t6\n",
            "Rejected: \t220\n",
            "Iteration: \t77 / 100\n",
            "Confirmed: \t53\n",
            "Tentative: \t6\n",
            "Rejected: \t220\n",
            "Iteration: \t78 / 100\n",
            "Confirmed: \t53\n",
            "Tentative: \t6\n",
            "Rejected: \t220\n",
            "Iteration: \t79 / 100\n",
            "Confirmed: \t53\n",
            "Tentative: \t6\n",
            "Rejected: \t220\n",
            "Iteration: \t80 / 100\n",
            "Confirmed: \t53\n",
            "Tentative: \t5\n",
            "Rejected: \t221\n",
            "Iteration: \t81 / 100\n",
            "Confirmed: \t53\n",
            "Tentative: \t5\n",
            "Rejected: \t221\n",
            "Iteration: \t82 / 100\n",
            "Confirmed: \t53\n",
            "Tentative: \t5\n",
            "Rejected: \t221\n",
            "Iteration: \t83 / 100\n",
            "Confirmed: \t53\n",
            "Tentative: \t5\n",
            "Rejected: \t221\n",
            "Iteration: \t84 / 100\n",
            "Confirmed: \t53\n",
            "Tentative: \t5\n",
            "Rejected: \t221\n",
            "Iteration: \t85 / 100\n",
            "Confirmed: \t53\n",
            "Tentative: \t5\n",
            "Rejected: \t221\n",
            "Iteration: \t86 / 100\n",
            "Confirmed: \t53\n",
            "Tentative: \t5\n",
            "Rejected: \t221\n",
            "Iteration: \t87 / 100\n",
            "Confirmed: \t53\n",
            "Tentative: \t5\n",
            "Rejected: \t221\n",
            "Iteration: \t88 / 100\n",
            "Confirmed: \t53\n",
            "Tentative: \t5\n",
            "Rejected: \t221\n",
            "Iteration: \t89 / 100\n",
            "Confirmed: \t53\n",
            "Tentative: \t5\n",
            "Rejected: \t221\n",
            "Iteration: \t90 / 100\n",
            "Confirmed: \t53\n",
            "Tentative: \t5\n",
            "Rejected: \t221\n",
            "Iteration: \t91 / 100\n",
            "Confirmed: \t53\n",
            "Tentative: \t5\n",
            "Rejected: \t221\n",
            "Iteration: \t92 / 100\n",
            "Confirmed: \t53\n",
            "Tentative: \t5\n",
            "Rejected: \t221\n",
            "Iteration: \t93 / 100\n",
            "Confirmed: \t53\n",
            "Tentative: \t5\n",
            "Rejected: \t221\n",
            "Iteration: \t94 / 100\n",
            "Confirmed: \t53\n",
            "Tentative: \t5\n",
            "Rejected: \t221\n",
            "Iteration: \t95 / 100\n",
            "Confirmed: \t53\n",
            "Tentative: \t5\n",
            "Rejected: \t221\n",
            "Iteration: \t96 / 100\n",
            "Confirmed: \t53\n",
            "Tentative: \t5\n",
            "Rejected: \t221\n",
            "Iteration: \t97 / 100\n",
            "Confirmed: \t53\n",
            "Tentative: \t5\n",
            "Rejected: \t221\n",
            "Iteration: \t98 / 100\n",
            "Confirmed: \t53\n",
            "Tentative: \t5\n",
            "Rejected: \t221\n",
            "Iteration: \t99 / 100\n",
            "Confirmed: \t53\n",
            "Tentative: \t5\n",
            "Rejected: \t221\n",
            "\n",
            "\n",
            "BorutaPy finished running.\n",
            "\n",
            "Iteration: \t100 / 100\n",
            "Confirmed: \t53\n",
            "Tentative: \t3\n",
            "Rejected: \t221\n"
          ]
        }
      ]
    },
    {
      "cell_type": "code",
      "source": [
        "print(\"Selected Features:\")\n",
        "print(selected_features)"
      ],
      "metadata": {
        "colab": {
          "base_uri": "https://localhost:8080/"
        },
        "id": "dGEyBbFKPzTA",
        "outputId": "76988ad0-b923-466a-a9da-ccb915455813"
      },
      "execution_count": 16,
      "outputs": [
        {
          "output_type": "stream",
          "name": "stdout",
          "text": [
            "Selected Features:\n",
            "Index(['rev_Mean', 'mou_Range', 'totmrc_Range', 'ovrmou_Range', 'ovrrev_Range',\n",
            "       'vceovr_Range', 'datovr_Range', 'roam_Range', 'change_mou',\n",
            "       'change_rev', 'blck_dat_Mean', 'recv_sms_Mean', 'callfwdv_Mean',\n",
            "       'recv_vce_Range', 'inonemin_Range', 'mou_cvce_Range',\n",
            "       'mouiwylisv_Range', 'mou_pead_Range', 'mou_opkv_Range', 'months',\n",
            "       'uniqsubs', 'totcalls', 'totmou', 'totrev', 'adjrev', 'adjmou',\n",
            "       'adjqty', 'avgrev', 'avgmou', 'avgqty', 'avg3mou', 'avg3qty', 'avg3rev',\n",
            "       'avg6mou', 'avg6qty', 'avg6rev', 'hnd_price', 'pre_hnd_price', 'phones',\n",
            "       'models', 'lor', 'age1', 'age2', 'retdays', 'eqpdays',\n",
            "       'days_since_last_swap', 'crclscod_EA', 'asl_flag_Y', 'refurb_new_R',\n",
            "       'hnd_webcap_WC', 'hnd_webcap_WCMB', 'hnd_webcap_nan', 'ethnic_Z'],\n",
            "      dtype='object')\n"
          ]
        }
      ]
    },
    {
      "cell_type": "markdown",
      "source": [
        "# Feature selection - Lasso"
      ],
      "metadata": {
        "id": "r__PwYrtPreU"
      }
    },
    {
      "cell_type": "code",
      "source": [
        "from sklearn.linear_model import Lasso\n",
        "from sklearn.model_selection import GridSearchCV\n",
        "from sklearn.feature_selection import SelectFromModel"
      ],
      "metadata": {
        "id": "e7ChsQWVP5Xg"
      },
      "execution_count": 28,
      "outputs": []
    },
    {
      "cell_type": "code",
      "source": [
        "X = df.drop('churn', axis=1)\n",
        "y = df['churn']"
      ],
      "metadata": {
        "id": "JYQKJx-lP-RD"
      },
      "execution_count": 29,
      "outputs": []
    },
    {
      "cell_type": "code",
      "source": [
        "# Create a Lasso regression model\n",
        "lasso = Lasso()"
      ],
      "metadata": {
        "id": "Fkji5-rhQA5V"
      },
      "execution_count": 31,
      "outputs": []
    },
    {
      "cell_type": "code",
      "source": [
        "# Split the data into train and test sets\n",
        "X_train, X_test, y_train, y_test = train_test_split(X, y, test_size=0.2, random_state=42)"
      ],
      "metadata": {
        "id": "9lShCiTyQEtp"
      },
      "execution_count": 32,
      "outputs": []
    },
    {
      "cell_type": "code",
      "source": [
        "# Define a grid of alpha values to search over\n",
        "alphas = [0.0001, 0.0002, 0.0003, 0.0004]  \n",
        "\n",
        "# Perform grid search using cross-validation on the training set\n",
        "param_grid = {'alpha': alphas}\n",
        "grid_search = GridSearchCV(lasso, param_grid, cv=5, scoring='neg_mean_squared_error')\n",
        "grid_search.fit(X_train, y_train)"
      ],
      "metadata": {
        "colab": {
          "base_uri": "https://localhost:8080/",
          "height": 116
        },
        "id": "WBsAXH1yQFVY",
        "outputId": "52290c20-3c1d-4bbd-e7a7-0b06f7d1d5f5"
      },
      "execution_count": 45,
      "outputs": [
        {
          "output_type": "execute_result",
          "data": {
            "text/plain": [
              "GridSearchCV(cv=5, estimator=Lasso(),\n",
              "             param_grid={'alpha': [0.0001, 0.0002, 0.0003, 0.0004]},\n",
              "             scoring='neg_mean_squared_error')"
            ],
            "text/html": [
              "<style>#sk-container-id-8 {color: black;background-color: white;}#sk-container-id-8 pre{padding: 0;}#sk-container-id-8 div.sk-toggleable {background-color: white;}#sk-container-id-8 label.sk-toggleable__label {cursor: pointer;display: block;width: 100%;margin-bottom: 0;padding: 0.3em;box-sizing: border-box;text-align: center;}#sk-container-id-8 label.sk-toggleable__label-arrow:before {content: \"▸\";float: left;margin-right: 0.25em;color: #696969;}#sk-container-id-8 label.sk-toggleable__label-arrow:hover:before {color: black;}#sk-container-id-8 div.sk-estimator:hover label.sk-toggleable__label-arrow:before {color: black;}#sk-container-id-8 div.sk-toggleable__content {max-height: 0;max-width: 0;overflow: hidden;text-align: left;background-color: #f0f8ff;}#sk-container-id-8 div.sk-toggleable__content pre {margin: 0.2em;color: black;border-radius: 0.25em;background-color: #f0f8ff;}#sk-container-id-8 input.sk-toggleable__control:checked~div.sk-toggleable__content {max-height: 200px;max-width: 100%;overflow: auto;}#sk-container-id-8 input.sk-toggleable__control:checked~label.sk-toggleable__label-arrow:before {content: \"▾\";}#sk-container-id-8 div.sk-estimator input.sk-toggleable__control:checked~label.sk-toggleable__label {background-color: #d4ebff;}#sk-container-id-8 div.sk-label input.sk-toggleable__control:checked~label.sk-toggleable__label {background-color: #d4ebff;}#sk-container-id-8 input.sk-hidden--visually {border: 0;clip: rect(1px 1px 1px 1px);clip: rect(1px, 1px, 1px, 1px);height: 1px;margin: -1px;overflow: hidden;padding: 0;position: absolute;width: 1px;}#sk-container-id-8 div.sk-estimator {font-family: monospace;background-color: #f0f8ff;border: 1px dotted black;border-radius: 0.25em;box-sizing: border-box;margin-bottom: 0.5em;}#sk-container-id-8 div.sk-estimator:hover {background-color: #d4ebff;}#sk-container-id-8 div.sk-parallel-item::after {content: \"\";width: 100%;border-bottom: 1px solid gray;flex-grow: 1;}#sk-container-id-8 div.sk-label:hover label.sk-toggleable__label {background-color: #d4ebff;}#sk-container-id-8 div.sk-serial::before {content: \"\";position: absolute;border-left: 1px solid gray;box-sizing: border-box;top: 0;bottom: 0;left: 50%;z-index: 0;}#sk-container-id-8 div.sk-serial {display: flex;flex-direction: column;align-items: center;background-color: white;padding-right: 0.2em;padding-left: 0.2em;position: relative;}#sk-container-id-8 div.sk-item {position: relative;z-index: 1;}#sk-container-id-8 div.sk-parallel {display: flex;align-items: stretch;justify-content: center;background-color: white;position: relative;}#sk-container-id-8 div.sk-item::before, #sk-container-id-8 div.sk-parallel-item::before {content: \"\";position: absolute;border-left: 1px solid gray;box-sizing: border-box;top: 0;bottom: 0;left: 50%;z-index: -1;}#sk-container-id-8 div.sk-parallel-item {display: flex;flex-direction: column;z-index: 1;position: relative;background-color: white;}#sk-container-id-8 div.sk-parallel-item:first-child::after {align-self: flex-end;width: 50%;}#sk-container-id-8 div.sk-parallel-item:last-child::after {align-self: flex-start;width: 50%;}#sk-container-id-8 div.sk-parallel-item:only-child::after {width: 0;}#sk-container-id-8 div.sk-dashed-wrapped {border: 1px dashed gray;margin: 0 0.4em 0.5em 0.4em;box-sizing: border-box;padding-bottom: 0.4em;background-color: white;}#sk-container-id-8 div.sk-label label {font-family: monospace;font-weight: bold;display: inline-block;line-height: 1.2em;}#sk-container-id-8 div.sk-label-container {text-align: center;}#sk-container-id-8 div.sk-container {/* jupyter's `normalize.less` sets `[hidden] { display: none; }` but bootstrap.min.css set `[hidden] { display: none !important; }` so we also need the `!important` here to be able to override the default hidden behavior on the sphinx rendered scikit-learn.org. See: https://github.com/scikit-learn/scikit-learn/issues/21755 */display: inline-block !important;position: relative;}#sk-container-id-8 div.sk-text-repr-fallback {display: none;}</style><div id=\"sk-container-id-8\" class=\"sk-top-container\"><div class=\"sk-text-repr-fallback\"><pre>GridSearchCV(cv=5, estimator=Lasso(),\n",
              "             param_grid={&#x27;alpha&#x27;: [0.0001, 0.0002, 0.0003, 0.0004]},\n",
              "             scoring=&#x27;neg_mean_squared_error&#x27;)</pre><b>In a Jupyter environment, please rerun this cell to show the HTML representation or trust the notebook. <br />On GitHub, the HTML representation is unable to render, please try loading this page with nbviewer.org.</b></div><div class=\"sk-container\" hidden><div class=\"sk-item sk-dashed-wrapped\"><div class=\"sk-label-container\"><div class=\"sk-label sk-toggleable\"><input class=\"sk-toggleable__control sk-hidden--visually\" id=\"sk-estimator-id-18\" type=\"checkbox\" ><label for=\"sk-estimator-id-18\" class=\"sk-toggleable__label sk-toggleable__label-arrow\">GridSearchCV</label><div class=\"sk-toggleable__content\"><pre>GridSearchCV(cv=5, estimator=Lasso(),\n",
              "             param_grid={&#x27;alpha&#x27;: [0.0001, 0.0002, 0.0003, 0.0004]},\n",
              "             scoring=&#x27;neg_mean_squared_error&#x27;)</pre></div></div></div><div class=\"sk-parallel\"><div class=\"sk-parallel-item\"><div class=\"sk-item\"><div class=\"sk-label-container\"><div class=\"sk-label sk-toggleable\"><input class=\"sk-toggleable__control sk-hidden--visually\" id=\"sk-estimator-id-19\" type=\"checkbox\" ><label for=\"sk-estimator-id-19\" class=\"sk-toggleable__label sk-toggleable__label-arrow\">estimator: Lasso</label><div class=\"sk-toggleable__content\"><pre>Lasso()</pre></div></div></div><div class=\"sk-serial\"><div class=\"sk-item\"><div class=\"sk-estimator sk-toggleable\"><input class=\"sk-toggleable__control sk-hidden--visually\" id=\"sk-estimator-id-20\" type=\"checkbox\" ><label for=\"sk-estimator-id-20\" class=\"sk-toggleable__label sk-toggleable__label-arrow\">Lasso</label><div class=\"sk-toggleable__content\"><pre>Lasso()</pre></div></div></div></div></div></div></div></div></div></div>"
            ]
          },
          "metadata": {},
          "execution_count": 45
        }
      ]
    },
    {
      "cell_type": "code",
      "source": [
        "# Get the best_alpha value\n",
        "best_alpha = grid_search.best_estimator_.alpha"
      ],
      "metadata": {
        "id": "lRsnkJjKQHu9"
      },
      "execution_count": 46,
      "outputs": []
    },
    {
      "cell_type": "code",
      "source": [
        "best_alpha"
      ],
      "metadata": {
        "colab": {
          "base_uri": "https://localhost:8080/"
        },
        "id": "cShC-vjBQMrn",
        "outputId": "019a0a21-1201-4cb8-865a-65af58db4b66"
      },
      "execution_count": 47,
      "outputs": [
        {
          "output_type": "execute_result",
          "data": {
            "text/plain": [
              "0.0003"
            ]
          },
          "metadata": {},
          "execution_count": 47
        }
      ]
    },
    {
      "cell_type": "code",
      "source": [
        "# Train the Lasso model using the best_alpha value on the entire training set\n",
        "lasso = Lasso(alpha=best_alpha)\n",
        "lasso.fit(X_train, y_train)"
      ],
      "metadata": {
        "colab": {
          "base_uri": "https://localhost:8080/",
          "height": 72
        },
        "id": "ZRxixSR2QOhL",
        "outputId": "a6a93e97-0737-4ada-db2f-c5a774a68094"
      },
      "execution_count": 48,
      "outputs": [
        {
          "output_type": "execute_result",
          "data": {
            "text/plain": [
              "Lasso(alpha=0.0003)"
            ],
            "text/html": [
              "<style>#sk-container-id-9 {color: black;background-color: white;}#sk-container-id-9 pre{padding: 0;}#sk-container-id-9 div.sk-toggleable {background-color: white;}#sk-container-id-9 label.sk-toggleable__label {cursor: pointer;display: block;width: 100%;margin-bottom: 0;padding: 0.3em;box-sizing: border-box;text-align: center;}#sk-container-id-9 label.sk-toggleable__label-arrow:before {content: \"▸\";float: left;margin-right: 0.25em;color: #696969;}#sk-container-id-9 label.sk-toggleable__label-arrow:hover:before {color: black;}#sk-container-id-9 div.sk-estimator:hover label.sk-toggleable__label-arrow:before {color: black;}#sk-container-id-9 div.sk-toggleable__content {max-height: 0;max-width: 0;overflow: hidden;text-align: left;background-color: #f0f8ff;}#sk-container-id-9 div.sk-toggleable__content pre {margin: 0.2em;color: black;border-radius: 0.25em;background-color: #f0f8ff;}#sk-container-id-9 input.sk-toggleable__control:checked~div.sk-toggleable__content {max-height: 200px;max-width: 100%;overflow: auto;}#sk-container-id-9 input.sk-toggleable__control:checked~label.sk-toggleable__label-arrow:before {content: \"▾\";}#sk-container-id-9 div.sk-estimator input.sk-toggleable__control:checked~label.sk-toggleable__label {background-color: #d4ebff;}#sk-container-id-9 div.sk-label input.sk-toggleable__control:checked~label.sk-toggleable__label {background-color: #d4ebff;}#sk-container-id-9 input.sk-hidden--visually {border: 0;clip: rect(1px 1px 1px 1px);clip: rect(1px, 1px, 1px, 1px);height: 1px;margin: -1px;overflow: hidden;padding: 0;position: absolute;width: 1px;}#sk-container-id-9 div.sk-estimator {font-family: monospace;background-color: #f0f8ff;border: 1px dotted black;border-radius: 0.25em;box-sizing: border-box;margin-bottom: 0.5em;}#sk-container-id-9 div.sk-estimator:hover {background-color: #d4ebff;}#sk-container-id-9 div.sk-parallel-item::after {content: \"\";width: 100%;border-bottom: 1px solid gray;flex-grow: 1;}#sk-container-id-9 div.sk-label:hover label.sk-toggleable__label {background-color: #d4ebff;}#sk-container-id-9 div.sk-serial::before {content: \"\";position: absolute;border-left: 1px solid gray;box-sizing: border-box;top: 0;bottom: 0;left: 50%;z-index: 0;}#sk-container-id-9 div.sk-serial {display: flex;flex-direction: column;align-items: center;background-color: white;padding-right: 0.2em;padding-left: 0.2em;position: relative;}#sk-container-id-9 div.sk-item {position: relative;z-index: 1;}#sk-container-id-9 div.sk-parallel {display: flex;align-items: stretch;justify-content: center;background-color: white;position: relative;}#sk-container-id-9 div.sk-item::before, #sk-container-id-9 div.sk-parallel-item::before {content: \"\";position: absolute;border-left: 1px solid gray;box-sizing: border-box;top: 0;bottom: 0;left: 50%;z-index: -1;}#sk-container-id-9 div.sk-parallel-item {display: flex;flex-direction: column;z-index: 1;position: relative;background-color: white;}#sk-container-id-9 div.sk-parallel-item:first-child::after {align-self: flex-end;width: 50%;}#sk-container-id-9 div.sk-parallel-item:last-child::after {align-self: flex-start;width: 50%;}#sk-container-id-9 div.sk-parallel-item:only-child::after {width: 0;}#sk-container-id-9 div.sk-dashed-wrapped {border: 1px dashed gray;margin: 0 0.4em 0.5em 0.4em;box-sizing: border-box;padding-bottom: 0.4em;background-color: white;}#sk-container-id-9 div.sk-label label {font-family: monospace;font-weight: bold;display: inline-block;line-height: 1.2em;}#sk-container-id-9 div.sk-label-container {text-align: center;}#sk-container-id-9 div.sk-container {/* jupyter's `normalize.less` sets `[hidden] { display: none; }` but bootstrap.min.css set `[hidden] { display: none !important; }` so we also need the `!important` here to be able to override the default hidden behavior on the sphinx rendered scikit-learn.org. See: https://github.com/scikit-learn/scikit-learn/issues/21755 */display: inline-block !important;position: relative;}#sk-container-id-9 div.sk-text-repr-fallback {display: none;}</style><div id=\"sk-container-id-9\" class=\"sk-top-container\"><div class=\"sk-text-repr-fallback\"><pre>Lasso(alpha=0.0003)</pre><b>In a Jupyter environment, please rerun this cell to show the HTML representation or trust the notebook. <br />On GitHub, the HTML representation is unable to render, please try loading this page with nbviewer.org.</b></div><div class=\"sk-container\" hidden><div class=\"sk-item\"><div class=\"sk-estimator sk-toggleable\"><input class=\"sk-toggleable__control sk-hidden--visually\" id=\"sk-estimator-id-21\" type=\"checkbox\" checked><label for=\"sk-estimator-id-21\" class=\"sk-toggleable__label sk-toggleable__label-arrow\">Lasso</label><div class=\"sk-toggleable__content\"><pre>Lasso(alpha=0.0003)</pre></div></div></div></div></div>"
            ]
          },
          "metadata": {},
          "execution_count": 48
        }
      ]
    },
    {
      "cell_type": "code",
      "source": [
        "# Perform feature selection using the Lasso model on the training set\n",
        "feature_selector = SelectFromModel(lasso, threshold='median')\n",
        "X_train_selected = feature_selector.transform(X_train)"
      ],
      "metadata": {
        "id": "7rirVoyKQR4e"
      },
      "execution_count": 49,
      "outputs": []
    },
    {
      "cell_type": "code",
      "source": [
        "# Get the selected feature names\n",
        "selected_features = X_train.columns[lasso.coef_ != 0]"
      ],
      "metadata": {
        "id": "wDN6O_zlQUJQ"
      },
      "execution_count": 50,
      "outputs": []
    },
    {
      "cell_type": "code",
      "source": [
        "print(\"Selected Features:\", selected_features)"
      ],
      "metadata": {
        "colab": {
          "base_uri": "https://localhost:8080/"
        },
        "id": "qzWJXs6OQWJm",
        "outputId": "e47ca542-6399-441f-ca70-724d67ddf6cb"
      },
      "execution_count": 51,
      "outputs": [
        {
          "output_type": "stream",
          "name": "stdout",
          "text": [
            "Selected Features: Index(['rev_Mean', 'mou_Range', 'totmrc_Range', 'da_Range', 'ovrrev_Range',\n",
            "       'vceovr_Range', 'datovr_Range', 'roam_Range', 'change_mou',\n",
            "       'change_rev',\n",
            "       ...\n",
            "       'kid3_5_Y', 'kid3_5_nan', 'kid6_10_nan', 'kid11_15_Y', 'kid11_15_nan',\n",
            "       'kid16_17_Y', 'kid16_17_nan', 'creditcd_nan', 'car_buy_UNKNOWN',\n",
            "       'car_buy_nan'],\n",
            "      dtype='object', length=144)\n"
          ]
        }
      ]
    },
    {
      "cell_type": "code",
      "source": [
        "result_list = list(selected_features)"
      ],
      "metadata": {
        "id": "SbT9IKeLuP35"
      },
      "execution_count": 66,
      "outputs": []
    },
    {
      "cell_type": "code",
      "source": [
        "print(result_list)"
      ],
      "metadata": {
        "colab": {
          "base_uri": "https://localhost:8080/"
        },
        "id": "G281K-gwuSGo",
        "outputId": "ce47d9d7-1b10-4bd4-bb6a-0e1bc6cf085b"
      },
      "execution_count": 67,
      "outputs": [
        {
          "output_type": "stream",
          "name": "stdout",
          "text": [
            "['rev_Mean', 'mou_Range', 'totmrc_Range', 'da_Range', 'ovrrev_Range', 'vceovr_Range', 'datovr_Range', 'roam_Range', 'change_mou', 'change_rev', 'drop_vce_Mean', 'plcd_dat_Mean', 'recv_sms_Mean', 'opk_dat_Mean', 'drop_blk_Mean', 'callfwdv_Mean', 'drop_dat_Range', 'blck_vce_Range', 'unan_vce_Range', 'recv_vce_Range', 'comp_vce_Range', 'comp_dat_Range', 'custcare_Range', 'ccrndmou_Range', 'cc_mou_Range', 'inonemin_Range', 'threeway_Range', 'mou_rvce_Range', 'mouowylisv_Range', 'iwylis_vce_Range', 'mouiwylisv_Range', 'peak_dat_Range', 'mou_peav_Range', 'opk_vce_Range', 'mou_opkv_Range', 'mou_opkd_Range', 'attempt_Range', 'callwait_Range', 'months', 'uniqsubs', 'actvsubs', 'totcalls', 'totmou', 'totrev', 'avgmou', 'avg3mou', 'avg3qty', 'avg6mou', 'avg6qty', 'avg6rev', 'hnd_price', 'pre_hnd_price', 'models', 'lor', 'age1', 'age2', 'adults', 'income', 'numbcars', 'retdays', 'eqpdays', 'days_since_last_swap', 'new_cell_U', 'new_cell_Y', 'crclscod_A2', 'crclscod_AA', 'crclscod_BA', 'crclscod_C', 'crclscod_CA', 'crclscod_E4', 'crclscod_EA', 'asl_flag_Y', 'prizm_social_one_R', 'prizm_social_one_S', 'prizm_social_one_U', 'prizm_social_one_nan', 'div_type_LDD', 'div_type_nan', 'area_CALIFORNIA NORTH AREA', 'area_CENTRAL/SOUTH TEXAS AREA', 'area_DALLAS AREA', 'area_DC/MARYLAND/VIRGINIA AREA', 'area_HOUSTON AREA', 'area_MIDWEST AREA', 'area_NEW ENGLAND AREA', 'area_NEW YORK CITY AREA', 'area_NORTH FLORIDA AREA', 'area_NORTHWEST/ROCKY MOUNTAIN AREA', 'area_OHIO AREA', 'area_PHILADELPHIA AREA', 'area_SOUTH FLORIDA AREA', 'area_SOUTHWEST AREA', 'area_TENNESSEE AREA', 'dualband_T', 'dualband_Y', 'refurb_new_R', 'hnd_webcap_WCMB', 'hnd_webcap_nan', 'occu1_6', 'ownrent_R', 'ownrent_nan', 'dwlltype_S', 'dwlltype_nan', 'marital_M', 'marital_U', 'marital_nan', 'mailresp_nan', 'children_Y', 'children_nan', 'infobase_nan', 'cartype_C', 'cartype_nan', 'HHstatin_C', 'HHstatin_nan', 'solflag_nan', 'dwllsize_B', 'dwllsize_D', 'dwllsize_E', 'dwllsize_L', 'dwllsize_nan', 'proptype_nan', 'pcowner_nan', 'ethnic_D', 'ethnic_H', 'ethnic_I', 'ethnic_N', 'ethnic_O', 'ethnic_P', 'ethnic_S', 'ethnic_U', 'ethnic_Z', 'ethnic_nan', 'kid0_2_Y', 'kid0_2_nan', 'kid3_5_Y', 'kid3_5_nan', 'kid6_10_nan', 'kid11_15_Y', 'kid11_15_nan', 'kid16_17_Y', 'kid16_17_nan', 'creditcd_nan', 'car_buy_UNKNOWN', 'car_buy_nan']\n"
          ]
        }
      ]
    },
    {
      "cell_type": "code",
      "source": [
        "selected_features_count = len(selected_features)\n",
        "print(\"Number of selected features:\", selected_features_count)"
      ],
      "metadata": {
        "colab": {
          "base_uri": "https://localhost:8080/"
        },
        "id": "72loPIP9qFAT",
        "outputId": "d7f029d4-344c-445d-821c-1877b76b5b85"
      },
      "execution_count": 54,
      "outputs": [
        {
          "output_type": "stream",
          "name": "stdout",
          "text": [
            "Number of selected features: 144\n"
          ]
        }
      ]
    },
    {
      "cell_type": "code",
      "source": [
        "def get_result():\n",
        "    # Your code to generate the result as a list\n",
        "    result = [1, 2, 3, 4, 5]\n",
        "    return result\n",
        "\n",
        "# Call the function to get the result\n",
        "result_list = get_result()\n",
        "\n",
        "# Now you can use the `result_list` variable to send the result wherever you need it\n",
        "print(result_list)"
      ],
      "metadata": {
        "id": "EkeaeJvBt-SZ"
      },
      "execution_count": null,
      "outputs": []
    },
    {
      "cell_type": "code",
      "source": [
        "X_train_selected = X_train[selected_features].copy()\n",
        "X_test_selected = X_test[selected_features].copy()"
      ],
      "metadata": {
        "id": "Jtgbnre5q6bA"
      },
      "execution_count": 55,
      "outputs": []
    },
    {
      "cell_type": "code",
      "source": [
        "X_train_selected.to_csv('train_selected.csv', index=False)\n",
        "X_test_selected.to_csv('test_selected.csv', index=False)"
      ],
      "metadata": {
        "id": "Y1GmriSbsCeg"
      },
      "execution_count": 56,
      "outputs": []
    },
    {
      "cell_type": "code",
      "source": [
        "X_combined = pd.concat([X_train, X_test], axis=0)"
      ],
      "metadata": {
        "id": "vlj-LciLtE1V"
      },
      "execution_count": 58,
      "outputs": []
    },
    {
      "cell_type": "markdown",
      "source": [
        "# Feature selection - RFECV"
      ],
      "metadata": {
        "id": "ZcllCQG2QcKl"
      }
    },
    {
      "cell_type": "code",
      "source": [
        "from sklearn.feature_selection import RFECV\n",
        "from sklearn.ensemble import RandomForestClassifier\n",
        "from sklearn.model_selection import StratifiedKFold"
      ],
      "metadata": {
        "id": "-FP98rz7Qisc"
      },
      "execution_count": null,
      "outputs": []
    },
    {
      "cell_type": "code",
      "source": [
        "X = df.drop('churn', axis=1)\n",
        "y = df['churn']"
      ],
      "metadata": {
        "id": "0BpCCfuMQl10"
      },
      "execution_count": null,
      "outputs": []
    },
    {
      "cell_type": "code",
      "source": [
        "X_train, X_test, y_train, y_test = train_test_split(X, y, test_size=0.2, random_state=1)"
      ],
      "metadata": {
        "id": "xWUWODthY8ld"
      },
      "execution_count": null,
      "outputs": []
    },
    {
      "cell_type": "code",
      "source": [
        "estimator = RandomForestClassifier()"
      ],
      "metadata": {
        "id": "uZzD12KgQndl"
      },
      "execution_count": null,
      "outputs": []
    },
    {
      "cell_type": "code",
      "source": [
        "rfecv = RFECV(estimator=estimator, cv=StratifiedKFold(5), scoring='accuracy')"
      ],
      "metadata": {
        "id": "5AKqhSW7QpHM"
      },
      "execution_count": null,
      "outputs": []
    },
    {
      "cell_type": "code",
      "source": [
        "rfecv.fit(X_train, y_train)"
      ],
      "metadata": {
        "colab": {
          "base_uri": "https://localhost:8080/",
          "height": 116
        },
        "id": "b_yq-_qQQrNE",
        "outputId": "5ea48817-5434-476e-e53f-b5ea990d4d43"
      },
      "execution_count": null,
      "outputs": [
        {
          "output_type": "execute_result",
          "data": {
            "text/plain": [
              "RFECV(cv=StratifiedKFold(n_splits=5, random_state=None, shuffle=False),\n",
              "      estimator=RandomForestClassifier(), scoring='accuracy')"
            ],
            "text/html": [
              "<style>#sk-container-id-4 {color: black;background-color: white;}#sk-container-id-4 pre{padding: 0;}#sk-container-id-4 div.sk-toggleable {background-color: white;}#sk-container-id-4 label.sk-toggleable__label {cursor: pointer;display: block;width: 100%;margin-bottom: 0;padding: 0.3em;box-sizing: border-box;text-align: center;}#sk-container-id-4 label.sk-toggleable__label-arrow:before {content: \"▸\";float: left;margin-right: 0.25em;color: #696969;}#sk-container-id-4 label.sk-toggleable__label-arrow:hover:before {color: black;}#sk-container-id-4 div.sk-estimator:hover label.sk-toggleable__label-arrow:before {color: black;}#sk-container-id-4 div.sk-toggleable__content {max-height: 0;max-width: 0;overflow: hidden;text-align: left;background-color: #f0f8ff;}#sk-container-id-4 div.sk-toggleable__content pre {margin: 0.2em;color: black;border-radius: 0.25em;background-color: #f0f8ff;}#sk-container-id-4 input.sk-toggleable__control:checked~div.sk-toggleable__content {max-height: 200px;max-width: 100%;overflow: auto;}#sk-container-id-4 input.sk-toggleable__control:checked~label.sk-toggleable__label-arrow:before {content: \"▾\";}#sk-container-id-4 div.sk-estimator input.sk-toggleable__control:checked~label.sk-toggleable__label {background-color: #d4ebff;}#sk-container-id-4 div.sk-label input.sk-toggleable__control:checked~label.sk-toggleable__label {background-color: #d4ebff;}#sk-container-id-4 input.sk-hidden--visually {border: 0;clip: rect(1px 1px 1px 1px);clip: rect(1px, 1px, 1px, 1px);height: 1px;margin: -1px;overflow: hidden;padding: 0;position: absolute;width: 1px;}#sk-container-id-4 div.sk-estimator {font-family: monospace;background-color: #f0f8ff;border: 1px dotted black;border-radius: 0.25em;box-sizing: border-box;margin-bottom: 0.5em;}#sk-container-id-4 div.sk-estimator:hover {background-color: #d4ebff;}#sk-container-id-4 div.sk-parallel-item::after {content: \"\";width: 100%;border-bottom: 1px solid gray;flex-grow: 1;}#sk-container-id-4 div.sk-label:hover label.sk-toggleable__label {background-color: #d4ebff;}#sk-container-id-4 div.sk-serial::before {content: \"\";position: absolute;border-left: 1px solid gray;box-sizing: border-box;top: 0;bottom: 0;left: 50%;z-index: 0;}#sk-container-id-4 div.sk-serial {display: flex;flex-direction: column;align-items: center;background-color: white;padding-right: 0.2em;padding-left: 0.2em;position: relative;}#sk-container-id-4 div.sk-item {position: relative;z-index: 1;}#sk-container-id-4 div.sk-parallel {display: flex;align-items: stretch;justify-content: center;background-color: white;position: relative;}#sk-container-id-4 div.sk-item::before, #sk-container-id-4 div.sk-parallel-item::before {content: \"\";position: absolute;border-left: 1px solid gray;box-sizing: border-box;top: 0;bottom: 0;left: 50%;z-index: -1;}#sk-container-id-4 div.sk-parallel-item {display: flex;flex-direction: column;z-index: 1;position: relative;background-color: white;}#sk-container-id-4 div.sk-parallel-item:first-child::after {align-self: flex-end;width: 50%;}#sk-container-id-4 div.sk-parallel-item:last-child::after {align-self: flex-start;width: 50%;}#sk-container-id-4 div.sk-parallel-item:only-child::after {width: 0;}#sk-container-id-4 div.sk-dashed-wrapped {border: 1px dashed gray;margin: 0 0.4em 0.5em 0.4em;box-sizing: border-box;padding-bottom: 0.4em;background-color: white;}#sk-container-id-4 div.sk-label label {font-family: monospace;font-weight: bold;display: inline-block;line-height: 1.2em;}#sk-container-id-4 div.sk-label-container {text-align: center;}#sk-container-id-4 div.sk-container {/* jupyter's `normalize.less` sets `[hidden] { display: none; }` but bootstrap.min.css set `[hidden] { display: none !important; }` so we also need the `!important` here to be able to override the default hidden behavior on the sphinx rendered scikit-learn.org. See: https://github.com/scikit-learn/scikit-learn/issues/21755 */display: inline-block !important;position: relative;}#sk-container-id-4 div.sk-text-repr-fallback {display: none;}</style><div id=\"sk-container-id-4\" class=\"sk-top-container\"><div class=\"sk-text-repr-fallback\"><pre>RFECV(cv=StratifiedKFold(n_splits=5, random_state=None, shuffle=False),\n",
              "      estimator=RandomForestClassifier(), scoring=&#x27;accuracy&#x27;)</pre><b>In a Jupyter environment, please rerun this cell to show the HTML representation or trust the notebook. <br />On GitHub, the HTML representation is unable to render, please try loading this page with nbviewer.org.</b></div><div class=\"sk-container\" hidden><div class=\"sk-item sk-dashed-wrapped\"><div class=\"sk-label-container\"><div class=\"sk-label sk-toggleable\"><input class=\"sk-toggleable__control sk-hidden--visually\" id=\"sk-estimator-id-6\" type=\"checkbox\" ><label for=\"sk-estimator-id-6\" class=\"sk-toggleable__label sk-toggleable__label-arrow\">RFECV</label><div class=\"sk-toggleable__content\"><pre>RFECV(cv=StratifiedKFold(n_splits=5, random_state=None, shuffle=False),\n",
              "      estimator=RandomForestClassifier(), scoring=&#x27;accuracy&#x27;)</pre></div></div></div><div class=\"sk-parallel\"><div class=\"sk-parallel-item\"><div class=\"sk-item\"><div class=\"sk-label-container\"><div class=\"sk-label sk-toggleable\"><input class=\"sk-toggleable__control sk-hidden--visually\" id=\"sk-estimator-id-7\" type=\"checkbox\" ><label for=\"sk-estimator-id-7\" class=\"sk-toggleable__label sk-toggleable__label-arrow\">estimator: RandomForestClassifier</label><div class=\"sk-toggleable__content\"><pre>RandomForestClassifier()</pre></div></div></div><div class=\"sk-serial\"><div class=\"sk-item\"><div class=\"sk-estimator sk-toggleable\"><input class=\"sk-toggleable__control sk-hidden--visually\" id=\"sk-estimator-id-8\" type=\"checkbox\" ><label for=\"sk-estimator-id-8\" class=\"sk-toggleable__label sk-toggleable__label-arrow\">RandomForestClassifier</label><div class=\"sk-toggleable__content\"><pre>RandomForestClassifier()</pre></div></div></div></div></div></div></div></div></div></div>"
            ]
          },
          "metadata": {},
          "execution_count": 36
        }
      ]
    },
    {
      "cell_type": "code",
      "source": [
        "selected_features2 = X.columns[rfecv.support_]"
      ],
      "metadata": {
        "id": "PhV7Fe67Qtuz"
      },
      "execution_count": null,
      "outputs": []
    },
    {
      "cell_type": "code",
      "source": [
        "print(\"Selected Features:\")\n",
        "print(selected_features2)"
      ],
      "metadata": {
        "colab": {
          "base_uri": "https://localhost:8080/"
        },
        "id": "QMKbenAuQvWJ",
        "outputId": "12c1de2d-a42d-48a4-9173-37346876707f"
      },
      "execution_count": null,
      "outputs": [
        {
          "output_type": "stream",
          "name": "stdout",
          "text": [
            "Selected Features:\n",
            "Index(['mou_Mean', 'ovrrev_Mean', 'vceovr_Mean', 'roam_Mean', 'rev_Range',\n",
            "       'change_mou', 'change_rev', 'recv_vce_Mean', 'ccrndmou_Mean',\n",
            "       'cc_mou_Mean', 'inonemin_Mean', 'mou_cvce_Mean', 'mou_rvce_Mean',\n",
            "       'mouowylisv_Mean', 'mouiwylisv_Mean', 'mou_peav_Mean', 'mou_opkv_Mean',\n",
            "       'months', 'totmou', 'totrev', 'adjrev', 'adjqty', 'avg3mou', 'avg6qty',\n",
            "       'age2', 'eqpdays'],\n",
            "      dtype='object')\n"
          ]
        }
      ]
    },
    {
      "cell_type": "code",
      "source": [
        "selected_features2_count = len(selected_features2)\n",
        "print(\"Number of selected features:\", selected_features2_count)"
      ],
      "metadata": {
        "colab": {
          "base_uri": "https://localhost:8080/"
        },
        "id": "SNLzOGqQXzIX",
        "outputId": "d08dfa40-dac9-4ab3-bddb-313d6a76219a"
      },
      "execution_count": null,
      "outputs": [
        {
          "output_type": "stream",
          "name": "stdout",
          "text": [
            "Number of selected features: 26\n"
          ]
        }
      ]
    },
    {
      "cell_type": "code",
      "source": [],
      "metadata": {
        "id": "hQg11ZRlsgaz"
      },
      "execution_count": null,
      "outputs": []
    },
    {
      "cell_type": "code",
      "source": [],
      "metadata": {
        "id": "bcRevcpLsiCh"
      },
      "execution_count": null,
      "outputs": []
    },
    {
      "cell_type": "markdown",
      "source": [
        "# Outliers treatement"
      ],
      "metadata": {
        "id": "EBPrja9usjOq"
      }
    },
    {
      "cell_type": "code",
      "source": [
        "# Select columns with dtype float64 or int64\n",
        "numeric_columns = X_combined.select_dtypes(include=['float64', 'int64'])\n",
        "\n",
        "# Calculate the number of outliers for each numeric column\n",
        "outlier_counts = (numeric_columns < numeric_columns.quantile(0.25) - 1.5 * (numeric_columns.quantile(0.75) - numeric_columns.quantile(0.25))) | (numeric_columns > numeric_columns.quantile(0.75) + 1.5 * (numeric_columns.quantile(0.75) - numeric_columns.quantile(0.25)))\n",
        "outlier_counts = outlier_counts.sum().sort_values(ascending=False)\n",
        "\n",
        "# Select top 10 columns with the highest number of outliers\n",
        "top_10_columns = outlier_counts.head(10).index\n",
        "\n",
        "# Create box plots for the top 10 columns\n",
        "plt.figure(figsize=(12, 6))  # Adjust the figure size if needed\n",
        "sns.boxplot(data=X_combined[top_10_columns])\n",
        "plt.title(\"Columns with Highest Outliers\")\n",
        "plt.xticks(rotation=90)  # Rotate x-axis labels if needed\n",
        "plt.show()"
      ],
      "metadata": {
        "colab": {
          "base_uri": "https://localhost:8080/",
          "height": 696
        },
        "id": "arV2R6AJson7",
        "outputId": "d68a9306-ab5c-4ba2-e69b-2d76d796aba0"
      },
      "execution_count": 60,
      "outputs": [
        {
          "output_type": "display_data",
          "data": {
            "text/plain": [
              "<Figure size 1200x600 with 1 Axes>"
            ],
            "image/png": "[encoded data removed]"
          },
          "metadata": {}
        }
      ]
    },
    {
      "cell_type": "code",
      "source": [
        "# Identify columns with numerical values\n",
        "numerical_columns = X_combined.select_dtypes(include='number').columns\n",
        "\n",
        "# Function to treat outliers using z-score approach\n",
        "def treat_outliers(df, columns):\n",
        "    for column in columns:\n",
        "        # Calculate z-score for each value\n",
        "        z_scores = (df[column] - df[column].mean()) / df[column].std()\n",
        "        \n",
        "        # Set a threshold for outlier detection (e.g., z-score > 4 or < -4)\n",
        "        threshold = 5\n",
        "        \n",
        "        # Replace outlier values with NaN\n",
        "        df[column] = np.where(np.abs(z_scores) > threshold, np.nan, df[column])\n",
        "    \n",
        "    return df\n",
        "\n",
        "# Treat outliers in numerical columns\n",
        "raw_df_outliers_treated = treat_outliers(X_combined, numerical_columns)"
      ],
      "metadata": {
        "id": "ZjPngKTYtO2U"
      },
      "execution_count": 62,
      "outputs": []
    },
    {
      "cell_type": "code",
      "source": [
        "missing_values = raw_df_outliers_treated.isnull().sum()\n",
        "missing_percentage = (missing_values / len(df)) * 100\n",
        "missing_percentage\n",
        "missing_values"
      ],
      "metadata": {
        "colab": {
          "base_uri": "https://localhost:8080/"
        },
        "id": "1Nj85CLotblD",
        "outputId": "d8cd2eec-00e3-4fab-d8ca-e9fd92a3f3e7"
      },
      "execution_count": 63,
      "outputs": [
        {
          "output_type": "execute_result",
          "data": {
            "text/plain": [
              "rev_Mean            12\n",
              "mou_Range            0\n",
              "totmrc_Range         0\n",
              "da_Range            28\n",
              "ovrmou_Range         0\n",
              "                  ... \n",
              "kid16_17_nan       614\n",
              "creditcd_Y           0\n",
              "creditcd_nan       614\n",
              "car_buy_UNKNOWN      0\n",
              "car_buy_nan        614\n",
              "Length: 279, dtype: int64"
            ]
          },
          "metadata": {},
          "execution_count": 63
        }
      ]
    },
    {
      "cell_type": "code",
      "source": [
        "selected_data = raw_df_outliers_treated.dropna()"
      ],
      "metadata": {
        "id": "JKK7FBx9tfHT"
      },
      "execution_count": 64,
      "outputs": []
    },
    {
      "cell_type": "code",
      "source": [
        "selected_data"
      ],
      "metadata": {
        "colab": {
          "base_uri": "https://localhost:8080/",
          "height": 476
        },
        "id": "vCH0lI0Ythlf",
        "outputId": "f30d9b77-f394-4012-888a-bac516aa1b9b"
      },
      "execution_count": 65,
      "outputs": [
        {
          "output_type": "execute_result",
          "data": {
            "text/plain": [
              "       rev_Mean  mou_Range  totmrc_Range  da_Range  ovrmou_Range  \\\n",
              "18788  4.194793   6.120297      2.899813  0.688135      4.962845   \n",
              "776    4.648158   5.023881      2.847995  0.688135      4.736198   \n",
              "480    3.540597   1.098612      3.043637  0.688135      1.678326   \n",
              "30078  3.754609   5.429346      2.305581  1.378766      4.842366   \n",
              "29115  4.461098   5.796058      2.477437  1.091923      0.693147   \n",
              "...         ...        ...           ...       ...           ...   \n",
              "7142   1.787584   2.484907      2.408025  0.688135      2.484907   \n",
              "17225  3.600868   4.418841      3.477007  1.601406      4.077081   \n",
              "22036  4.270920   6.641182      3.181015  0.688135      5.713733   \n",
              "3256   5.422612   5.743003      1.987062  0.688135      4.457938   \n",
              "24073  3.540597   3.891820      3.198237  0.688135      3.689563   \n",
              "\n",
              "       ovrrev_Range  vceovr_Range  datovr_Range  roam_Range  change_mou  ...  \\\n",
              "18788      3.597312      3.597312      0.467850    3.288844      300.25  ...   \n",
              "776        3.375880      3.375880      0.329304    1.660860      -18.75  ...   \n",
              "480        1.121986      1.750804      0.852558    0.866965       -0.25  ...   \n",
              "30078      3.752132      3.752132      1.604029    1.674797      107.75  ...   \n",
              "29115      0.329304      2.679227      0.329304    1.383522        2.00  ...   \n",
              "...             ...           ...           ...         ...         ...  ...   \n",
              "7142       1.578979      1.578979      1.163090    1.741065        7.00  ...   \n",
              "17225      3.162780      3.162780      1.118699    0.576613      -38.75  ...   \n",
              "22036      4.670021      4.670021      1.212322    2.067196      327.00  ...   \n",
              "3256       3.308632      3.326422      0.786839    1.303860       80.25  ...   \n",
              "24073      2.946450      2.946450      0.789498    1.170996      -34.25  ...   \n",
              "\n",
              "       kid6_10_Y  kid6_10_nan  kid11_15_Y  kid11_15_nan  kid16_17_Y  \\\n",
              "18788        0.0          0.0         0.0           0.0         1.0   \n",
              "776          0.0          0.0         0.0           0.0         0.0   \n",
              "480          0.0          0.0         0.0           0.0         0.0   \n",
              "30078        0.0          0.0         0.0           0.0         0.0   \n",
              "29115        0.0          0.0         0.0           0.0         0.0   \n",
              "...          ...          ...         ...           ...         ...   \n",
              "7142         0.0          0.0         0.0           0.0         0.0   \n",
              "17225        0.0          0.0         0.0           0.0         0.0   \n",
              "22036        0.0          0.0         0.0           0.0         0.0   \n",
              "3256         0.0          0.0         0.0           0.0         0.0   \n",
              "24073        0.0          0.0         0.0           0.0         0.0   \n",
              "\n",
              "       kid16_17_nan  creditcd_Y  creditcd_nan  car_buy_UNKNOWN  car_buy_nan  \n",
              "18788           0.0         1.0           0.0              1.0          0.0  \n",
              "776             0.0         1.0           0.0              0.0          0.0  \n",
              "480             0.0         0.0           0.0              1.0          0.0  \n",
              "30078           0.0         1.0           0.0              1.0          0.0  \n",
              "29115           0.0         1.0           0.0              1.0          0.0  \n",
              "...             ...         ...           ...              ...          ...  \n",
              "7142            0.0         1.0           0.0              1.0          0.0  \n",
              "17225           0.0         0.0           0.0              1.0          0.0  \n",
              "22036           0.0         0.0           0.0              1.0          0.0  \n",
              "3256            0.0         1.0           0.0              0.0          0.0  \n",
              "24073           0.0         0.0           0.0              1.0          0.0  \n",
              "\n",
              "[15473 rows x 279 columns]"
            ],
            "text/html": [
              "\n",
              "  <div id=\"df-49885b7a-960e-4699-a9ab-f6eea252ab16\">\n",
              "    <div class=\"colab-df-container\">\n",
              "      <div>\n",
              "<style scoped>\n",
              "    .dataframe tbody tr th:only-of-type {\n",
              "        vertical-align: middle;\n",
              "    }\n",
              "\n",
              "    .dataframe tbody tr th {\n",
              "        vertical-align: top;\n",
              "    }\n",
              "\n",
              "    .dataframe thead th {\n",
              "        text-align: right;\n",
              "    }\n",
              "</style>\n",
              "<table border=\"1\" class=\"dataframe\">\n",
              "  <thead>\n",
              "    <tr style=\"text-align: right;\">\n",
              "      <th></th>\n",
              "      <th>rev_Mean</th>\n",
              "      <th>mou_Range</th>\n",
              "      <th>totmrc_Range</th>\n",
              "      <th>da_Range</th>\n",
              "      <th>ovrmou_Range</th>\n",
              "      <th>ovrrev_Range</th>\n",
              "      <th>vceovr_Range</th>\n",
              "      <th>datovr_Range</th>\n",
              "      <th>roam_Range</th>\n",
              "      <th>change_mou</th>\n",
              "      <th>...</th>\n",
              "      <th>kid6_10_Y</th>\n",
              "      <th>kid6_10_nan</th>\n",
              "      <th>kid11_15_Y</th>\n",
              "      <th>kid11_15_nan</th>\n",
              "      <th>kid16_17_Y</th>\n",
              "      <th>kid16_17_nan</th>\n",
              "      <th>creditcd_Y</th>\n",
              "      <th>creditcd_nan</th>\n",
              "      <th>car_buy_UNKNOWN</th>\n",
              "      <th>car_buy_nan</th>\n",
              "    </tr>\n",
              "  </thead>\n",
              "  <tbody>\n",
              "    <tr>\n",
              "      <th>18788</th>\n",
              "      <td>4.194793</td>\n",
              "      <td>6.120297</td>\n",
              "      <td>2.899813</td>\n",
              "      <td>0.688135</td>\n",
              "      <td>4.962845</td>\n",
              "      <td>3.597312</td>\n",
              "      <td>3.597312</td>\n",
              "      <td>0.467850</td>\n",
              "      <td>3.288844</td>\n",
              "      <td>300.25</td>\n",
              "      <td>...</td>\n",
              "      <td>0.0</td>\n",
              "      <td>0.0</td>\n",
              "      <td>0.0</td>\n",
              "      <td>0.0</td>\n",
              "      <td>1.0</td>\n",
              "      <td>0.0</td>\n",
              "      <td>1.0</td>\n",
              "      <td>0.0</td>\n",
              "      <td>1.0</td>\n",
              "      <td>0.0</td>\n",
              "    </tr>\n",
              "    <tr>\n",
              "      <th>776</th>\n",
              "      <td>4.648158</td>\n",
              "      <td>5.023881</td>\n",
              "      <td>2.847995</td>\n",
              "      <td>0.688135</td>\n",
              "      <td>4.736198</td>\n",
              "      <td>3.375880</td>\n",
              "      <td>3.375880</td>\n",
              "      <td>0.329304</td>\n",
              "      <td>1.660860</td>\n",
              "      <td>-18.75</td>\n",
              "      <td>...</td>\n",
              "      <td>0.0</td>\n",
              "      <td>0.0</td>\n",
              "      <td>0.0</td>\n",
              "      <td>0.0</td>\n",
              "      <td>0.0</td>\n",
              "      <td>0.0</td>\n",
              "      <td>1.0</td>\n",
              "      <td>0.0</td>\n",
              "      <td>0.0</td>\n",
              "      <td>0.0</td>\n",
              "    </tr>\n",
              "    <tr>\n",
              "      <th>480</th>\n",
              "      <td>3.540597</td>\n",
              "      <td>1.098612</td>\n",
              "      <td>3.043637</td>\n",
              "      <td>0.688135</td>\n",
              "      <td>1.678326</td>\n",
              "      <td>1.121986</td>\n",
              "      <td>1.750804</td>\n",
              "      <td>0.852558</td>\n",
              "      <td>0.866965</td>\n",
              "      <td>-0.25</td>\n",
              "      <td>...</td>\n",
              "      <td>0.0</td>\n",
              "      <td>0.0</td>\n",
              "      <td>0.0</td>\n",
              "      <td>0.0</td>\n",
              "      <td>0.0</td>\n",
              "      <td>0.0</td>\n",
              "      <td>0.0</td>\n",
              "      <td>0.0</td>\n",
              "      <td>1.0</td>\n",
              "      <td>0.0</td>\n",
              "    </tr>\n",
              "    <tr>\n",
              "      <th>30078</th>\n",
              "      <td>3.754609</td>\n",
              "      <td>5.429346</td>\n",
              "      <td>2.305581</td>\n",
              "      <td>1.378766</td>\n",
              "      <td>4.842366</td>\n",
              "      <td>3.752132</td>\n",
              "      <td>3.752132</td>\n",
              "      <td>1.604029</td>\n",
              "      <td>1.674797</td>\n",
              "      <td>107.75</td>\n",
              "      <td>...</td>\n",
              "      <td>0.0</td>\n",
              "      <td>0.0</td>\n",
              "      <td>0.0</td>\n",
              "      <td>0.0</td>\n",
              "      <td>0.0</td>\n",
              "      <td>0.0</td>\n",
              "      <td>1.0</td>\n",
              "      <td>0.0</td>\n",
              "      <td>1.0</td>\n",
              "      <td>0.0</td>\n",
              "    </tr>\n",
              "    <tr>\n",
              "      <th>29115</th>\n",
              "      <td>4.461098</td>\n",
              "      <td>5.796058</td>\n",
              "      <td>2.477437</td>\n",
              "      <td>1.091923</td>\n",
              "      <td>0.693147</td>\n",
              "      <td>0.329304</td>\n",
              "      <td>2.679227</td>\n",
              "      <td>0.329304</td>\n",
              "      <td>1.383522</td>\n",
              "      <td>2.00</td>\n",
              "      <td>...</td>\n",
              "      <td>0.0</td>\n",
              "      <td>0.0</td>\n",
              "      <td>0.0</td>\n",
              "      <td>0.0</td>\n",
              "      <td>0.0</td>\n",
              "      <td>0.0</td>\n",
              "      <td>1.0</td>\n",
              "      <td>0.0</td>\n",
              "      <td>1.0</td>\n",
              "      <td>0.0</td>\n",
              "    </tr>\n",
              "    <tr>\n",
              "      <th>...</th>\n",
              "      <td>...</td>\n",
              "      <td>...</td>\n",
              "      <td>...</td>\n",
              "      <td>...</td>\n",
              "      <td>...</td>\n",
              "      <td>...</td>\n",
              "      <td>...</td>\n",
              "      <td>...</td>\n",
              "      <td>...</td>\n",
              "      <td>...</td>\n",
              "      <td>...</td>\n",
              "      <td>...</td>\n",
              "      <td>...</td>\n",
              "      <td>...</td>\n",
              "      <td>...</td>\n",
              "      <td>...</td>\n",
              "      <td>...</td>\n",
              "      <td>...</td>\n",
              "      <td>...</td>\n",
              "      <td>...</td>\n",
              "      <td>...</td>\n",
              "    </tr>\n",
              "    <tr>\n",
              "      <th>7142</th>\n",
              "      <td>1.787584</td>\n",
              "      <td>2.484907</td>\n",
              "      <td>2.408025</td>\n",
              "      <td>0.688135</td>\n",
              "      <td>2.484907</td>\n",
              "      <td>1.578979</td>\n",
              "      <td>1.578979</td>\n",
              "      <td>1.163090</td>\n",
              "      <td>1.741065</td>\n",
              "      <td>7.00</td>\n",
              "      <td>...</td>\n",
              "      <td>0.0</td>\n",
              "      <td>0.0</td>\n",
              "      <td>0.0</td>\n",
              "      <td>0.0</td>\n",
              "      <td>0.0</td>\n",
              "      <td>0.0</td>\n",
              "      <td>1.0</td>\n",
              "      <td>0.0</td>\n",
              "      <td>1.0</td>\n",
              "      <td>0.0</td>\n",
              "    </tr>\n",
              "    <tr>\n",
              "      <th>17225</th>\n",
              "      <td>3.600868</td>\n",
              "      <td>4.418841</td>\n",
              "      <td>3.477007</td>\n",
              "      <td>1.601406</td>\n",
              "      <td>4.077081</td>\n",
              "      <td>3.162780</td>\n",
              "      <td>3.162780</td>\n",
              "      <td>1.118699</td>\n",
              "      <td>0.576613</td>\n",
              "      <td>-38.75</td>\n",
              "      <td>...</td>\n",
              "      <td>0.0</td>\n",
              "      <td>0.0</td>\n",
              "      <td>0.0</td>\n",
              "      <td>0.0</td>\n",
              "      <td>0.0</td>\n",
              "      <td>0.0</td>\n",
              "      <td>0.0</td>\n",
              "      <td>0.0</td>\n",
              "      <td>1.0</td>\n",
              "      <td>0.0</td>\n",
              "    </tr>\n",
              "    <tr>\n",
              "      <th>22036</th>\n",
              "      <td>4.270920</td>\n",
              "      <td>6.641182</td>\n",
              "      <td>3.181015</td>\n",
              "      <td>0.688135</td>\n",
              "      <td>5.713733</td>\n",
              "      <td>4.670021</td>\n",
              "      <td>4.670021</td>\n",
              "      <td>1.212322</td>\n",
              "      <td>2.067196</td>\n",
              "      <td>327.00</td>\n",
              "      <td>...</td>\n",
              "      <td>0.0</td>\n",
              "      <td>0.0</td>\n",
              "      <td>0.0</td>\n",
              "      <td>0.0</td>\n",
              "      <td>0.0</td>\n",
              "      <td>0.0</td>\n",
              "      <td>0.0</td>\n",
              "      <td>0.0</td>\n",
              "      <td>1.0</td>\n",
              "      <td>0.0</td>\n",
              "    </tr>\n",
              "    <tr>\n",
              "      <th>3256</th>\n",
              "      <td>5.422612</td>\n",
              "      <td>5.743003</td>\n",
              "      <td>1.987062</td>\n",
              "      <td>0.688135</td>\n",
              "      <td>4.457938</td>\n",
              "      <td>3.308632</td>\n",
              "      <td>3.326422</td>\n",
              "      <td>0.786839</td>\n",
              "      <td>1.303860</td>\n",
              "      <td>80.25</td>\n",
              "      <td>...</td>\n",
              "      <td>0.0</td>\n",
              "      <td>0.0</td>\n",
              "      <td>0.0</td>\n",
              "      <td>0.0</td>\n",
              "      <td>0.0</td>\n",
              "      <td>0.0</td>\n",
              "      <td>1.0</td>\n",
              "      <td>0.0</td>\n",
              "      <td>0.0</td>\n",
              "      <td>0.0</td>\n",
              "    </tr>\n",
              "    <tr>\n",
              "      <th>24073</th>\n",
              "      <td>3.540597</td>\n",
              "      <td>3.891820</td>\n",
              "      <td>3.198237</td>\n",
              "      <td>0.688135</td>\n",
              "      <td>3.689563</td>\n",
              "      <td>2.946450</td>\n",
              "      <td>2.946450</td>\n",
              "      <td>0.789498</td>\n",
              "      <td>1.170996</td>\n",
              "      <td>-34.25</td>\n",
              "      <td>...</td>\n",
              "      <td>0.0</td>\n",
              "      <td>0.0</td>\n",
              "      <td>0.0</td>\n",
              "      <td>0.0</td>\n",
              "      <td>0.0</td>\n",
              "      <td>0.0</td>\n",
              "      <td>0.0</td>\n",
              "      <td>0.0</td>\n",
              "      <td>1.0</td>\n",
              "      <td>0.0</td>\n",
              "    </tr>\n",
              "  </tbody>\n",
              "</table>\n",
              "<p>15473 rows × 279 columns</p>\n",
              "</div>\n",
              "      <button class=\"colab-df-convert\" onclick=\"convertToInteractive('df-49885b7a-960e-4699-a9ab-f6eea252ab16')\"\n",
              "              title=\"Convert this dataframe to an interactive table.\"\n",
              "              style=\"display:none;\">\n",
              "        \n",
              "  <svg xmlns=\"http://www.w3.org/2000/svg\" height=\"24px\"viewBox=\"0 0 24 24\"\n",
              "       width=\"24px\">\n",
              "    <path d=\"M0 0h24v24H0V0z\" fill=\"none\"/>\n",
              "    <path d=\"M18.56 5.44l.94 2.06.94-2.06 2.06-.94-2.06-.94-.94-2.06-.94 2.06-2.06.94zm-11 1L8.5 8.5l.94-2.06 2.06-.94-2.06-.94L8.5 2.5l-.94 2.06-2.06.94zm10 10l.94 2.06.94-2.06 2.06-.94-2.06-.94-.94-2.06-.94 2.06-2.06.94z\"/><path d=\"M17.41 7.96l-1.37-1.37c-.4-.4-.92-.59-1.43-.59-.52 0-1.04.2-1.43.59L10.3 9.45l-7.72 7.72c-.78.78-.78 2.05 0 2.83L4 21.41c.39.39.9.59 1.41.59.51 0 1.02-.2 1.41-.59l7.78-7.78 2.81-2.81c.8-.78.8-2.07 0-2.86zM5.41 20L4 18.59l7.72-7.72 1.47 1.35L5.41 20z\"/>\n",
              "  </svg>\n",
              "      </button>\n",
              "      \n",
              "  <style>\n",
              "    .colab-df-container {\n",
              "      display:flex;\n",
              "      flex-wrap:wrap;\n",
              "      gap: 12px;\n",
              "    }\n",
              "\n",
              "    .colab-df-convert {\n",
              "      background-color: #E8F0FE;\n",
              "      border: none;\n",
              "      border-radius: 50%;\n",
              "      cursor: pointer;\n",
              "      display: none;\n",
              "      fill: #1967D2;\n",
              "      height: 32px;\n",
              "      padding: 0 0 0 0;\n",
              "      width: 32px;\n",
              "    }\n",
              "\n",
              "    .colab-df-convert:hover {\n",
              "      background-color: #E2EBFA;\n",
              "      box-shadow: 0px 1px 2px rgba(60, 64, 67, 0.3), 0px 1px 3px 1px rgba(60, 64, 67, 0.15);\n",
              "      fill: #174EA6;\n",
              "    }\n",
              "\n",
              "    [theme=dark] .colab-df-convert {\n",
              "      background-color: #3B4455;\n",
              "      fill: #D2E3FC;\n",
              "    }\n",
              "\n",
              "    [theme=dark] .colab-df-convert:hover {\n",
              "      background-color: #434B5C;\n",
              "      box-shadow: 0px 1px 3px 1px rgba(0, 0, 0, 0.15);\n",
              "      filter: drop-shadow(0px 1px 2px rgba(0, 0, 0, 0.3));\n",
              "      fill: #FFFFFF;\n",
              "    }\n",
              "  </style>\n",
              "\n",
              "      <script>\n",
              "        const buttonEl =\n",
              "          document.querySelector('#df-49885b7a-960e-4699-a9ab-f6eea252ab16 button.colab-df-convert');\n",
              "        buttonEl.style.display =\n",
              "          google.colab.kernel.accessAllowed ? 'block' : 'none';\n",
              "\n",
              "        async function convertToInteractive(key) {\n",
              "          const element = document.querySelector('#df-49885b7a-960e-4699-a9ab-f6eea252ab16');\n",
              "          const dataTable =\n",
              "            await google.colab.kernel.invokeFunction('convertToInteractive',\n",
              "                                                     [key], {});\n",
              "          if (!dataTable) return;\n",
              "\n",
              "          const docLinkHtml = 'Like what you see? Visit the ' +\n",
              "            '<a target=\"_blank\" href=https://colab.research.google.com/notebooks/data_table.ipynb>data table notebook</a>'\n",
              "            + ' to learn more about interactive tables.';\n",
              "          element.innerHTML = '';\n",
              "          dataTable['output_type'] = 'display_data';\n",
              "          await google.colab.output.renderOutput(dataTable, element);\n",
              "          const docLink = document.createElement('div');\n",
              "          docLink.innerHTML = docLinkHtml;\n",
              "          element.appendChild(docLink);\n",
              "        }\n",
              "      </script>\n",
              "    </div>\n",
              "  </div>\n",
              "  "
            ]
          },
          "metadata": {},
          "execution_count": 65
        }
      ]
    }
  ]
}